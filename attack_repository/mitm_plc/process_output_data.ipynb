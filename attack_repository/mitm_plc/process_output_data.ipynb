{
 "cells": [
  {
   "cell_type": "markdown",
   "metadata": {},
   "source": [
    "# Draft of script to merge network and physical data\n",
    "\n",
    "This script has some code that is useful to understand dissecting packets with scapy and merging network and physical data"
   ]
  },
  {
   "cell_type": "code",
   "execution_count": 1,
   "metadata": {},
   "outputs": [],
   "source": [
    "import cip # library that has the packet structure of minicps network data\n",
    "from scapy.all import * # scapy python is a tool to disect network packets\n",
    "from scapy.contrib import modbus\n",
    "import pandas as pd \n",
    "from decimal import Decimal\n",
    "import time"
   ]
  },
  {
   "cell_type": "code",
   "execution_count": 3,
   "metadata": {},
   "outputs": [],
   "source": [
    "test = rdpcap(\"../../../cis_2020_snippets/snippets/test.pcap\")"
   ]
  },
  {
   "cell_type": "code",
   "execution_count": 5,
   "metadata": {
    "scrolled": false
   },
   "outputs": [
    {
     "ename": "TypeError",
     "evalue": "'NoneType' object is not subscriptable",
     "output_type": "error",
     "traceback": [
      "\u001b[1;31m---------------------------------------------------------------------------\u001b[0m",
      "\u001b[1;31mTypeError\u001b[0m                                 Traceback (most recent call last)",
      "\u001b[1;32m<ipython-input-5-22851a60bbd9>\u001b[0m in \u001b[0;36m<module>\u001b[1;34m\u001b[0m\n\u001b[0;32m      5\u001b[0m \u001b[1;31m# into the .csv file with all the packets involved in that data entry\u001b[0m\u001b[1;33m\u001b[0m\u001b[1;33m\u001b[0m\u001b[1;33m\u001b[0m\u001b[0m\n\u001b[0;32m      6\u001b[0m \u001b[1;32mfor\u001b[0m \u001b[0mi\u001b[0m \u001b[1;32min\u001b[0m \u001b[0mrange\u001b[0m\u001b[1;33m(\u001b[0m\u001b[0mlen\u001b[0m\u001b[1;33m(\u001b[0m\u001b[0mphysical_data\u001b[0m\u001b[1;33m)\u001b[0m\u001b[1;33m)\u001b[0m\u001b[1;33m:\u001b[0m\u001b[1;33m\u001b[0m\u001b[1;33m\u001b[0m\u001b[0m\n\u001b[1;32m----> 7\u001b[1;33m     \u001b[0mcurrent_epoch\u001b[0m \u001b[1;33m=\u001b[0m \u001b[1;33m(\u001b[0m\u001b[0mdatetime\u001b[0m\u001b[1;33m.\u001b[0m\u001b[0mstrptime\u001b[0m\u001b[1;33m(\u001b[0m\u001b[0mphysical_data\u001b[0m\u001b[1;33m.\u001b[0m\u001b[0mget\u001b[0m\u001b[1;33m(\u001b[0m\u001b[1;34m'timestamps'\u001b[0m\u001b[1;33m)\u001b[0m\u001b[1;33m[\u001b[0m\u001b[0mi\u001b[0m\u001b[1;33m]\u001b[0m\u001b[1;33m,\u001b[0m \u001b[1;34m\"%M:%S.%f\"\u001b[0m\u001b[1;33m)\u001b[0m\u001b[1;33m-\u001b[0m\u001b[0mdatetime\u001b[0m\u001b[1;33m(\u001b[0m\u001b[1;36m1970\u001b[0m\u001b[1;33m,\u001b[0m \u001b[1;36m1\u001b[0m\u001b[1;33m,\u001b[0m \u001b[1;36m1\u001b[0m\u001b[1;33m)\u001b[0m\u001b[1;33m)\u001b[0m\u001b[1;33m.\u001b[0m\u001b[0mtotal_seconds\u001b[0m\u001b[1;33m(\u001b[0m\u001b[1;33m)\u001b[0m\u001b[1;33m\u001b[0m\u001b[1;33m\u001b[0m\u001b[0m\n\u001b[0m\u001b[0;32m      8\u001b[0m     \u001b[0mprevious_epoch\u001b[0m \u001b[1;33m=\u001b[0m \u001b[1;33m(\u001b[0m\u001b[0mdatetime\u001b[0m\u001b[1;33m.\u001b[0m\u001b[0mstrptime\u001b[0m\u001b[1;33m(\u001b[0m\u001b[0mphysical_data\u001b[0m\u001b[1;33m.\u001b[0m\u001b[0mget\u001b[0m\u001b[1;33m(\u001b[0m\u001b[1;34m'timestamps'\u001b[0m\u001b[1;33m)\u001b[0m\u001b[1;33m[\u001b[0m\u001b[0mi\u001b[0m\u001b[1;33m]\u001b[0m\u001b[1;33m,\u001b[0m \u001b[1;34m\"%M:%S.%f\"\u001b[0m\u001b[1;33m)\u001b[0m\u001b[1;33m-\u001b[0m\u001b[0mdatetime\u001b[0m\u001b[1;33m(\u001b[0m\u001b[1;36m1970\u001b[0m\u001b[1;33m,\u001b[0m \u001b[1;36m1\u001b[0m\u001b[1;33m,\u001b[0m \u001b[1;36m1\u001b[0m\u001b[1;33m)\u001b[0m\u001b[1;33m)\u001b[0m\u001b[1;33m.\u001b[0m\u001b[0mtotal_seconds\u001b[0m\u001b[1;33m(\u001b[0m\u001b[1;33m)\u001b[0m\u001b[1;33m\u001b[0m\u001b[1;33m\u001b[0m\u001b[0m\n\u001b[0;32m      9\u001b[0m     \u001b[1;32mfor\u001b[0m \u001b[0mnwk\u001b[0m \u001b[1;32min\u001b[0m \u001b[0mnetwork_data\u001b[0m\u001b[1;33m:\u001b[0m\u001b[1;33m\u001b[0m\u001b[1;33m\u001b[0m\u001b[0m\n",
      "\u001b[1;31mTypeError\u001b[0m: 'NoneType' object is not subscriptable"
     ]
    }
   ],
   "source": [
    "data = []\n",
    "network_data = rdpcap(\"../../ICS_topologies/enhanced_ctown_topology/year_simulation/week_0/plc2-eth0.pcap\")\n",
    "physical_data = pd.read_csv(\"../../ICS_topologies/enhanced_ctown_topology/year_simulation/week_0/physical_process.csv\")\n",
    "# This for goes over all the physical data. The physical data has 672 iterations. What we try to do is relate one physical entry \n",
    "# into the .csv file with all the packets involved in that data entry\n",
    "#for i in range(len(physical_data)):\n",
    "#current_epoch = (datetime.strptime(physical_data.get('timestamps')[i], \"%M:%S.%f\")-datetime(1970, 1, 1)).total_seconds()\n",
    "#previous_epoch = (datetime.strptime(physical_data.get('timestamps')[i], \"%M:%S.%f\")-datetime(1970, 1, 1)).total_seconds()    \n",
    "    for nwk in network_data:\n",
    "        if (Decimal(nwk.time)+28800) >= previous_epoch and (Decimal(nwk.time)+28800) <= current_epoch:  \n",
    "            data_frag = {}\n",
    "            data_frag['network_data'] = nwk\n",
    "            data_frag['T_LVL'] = physical_data.get('TANK_LEVEL')[i]   \n",
    "            data_frag['RESERVOIR_LEVEL'] = physical_data.get('RESERVOIR_LEVEL')[i]\n",
    "            data_frag['J421'] = physical_data.get('J421')[i]\n",
    "            data_frag['J332'] = physical_data.get('J332')[i]\n",
    "            data_frag['J156'] = physical_data.get('J156')[i]\n",
    "            data_frag['J39'] = physical_data.get('J39')[i]\n",
    "            data_frag['J269'] = physical_data.get('J269')[i]\n",
    "            data_frag['J273'] = physical_data.get('J273')[i]\n",
    "            data_frag['J280'] = physical_data.get('J280')[i]\n",
    "            data_frag['J285'] = physical_data.get('J285')[i]\n",
    "            data_frag['FLOW_PUMP1'] = physical_data.get('FLOW_PUMP1')[i]\n",
    "            data_frag['FLOW_PUMP2'] = physical_data.get('FLOW_PUMP2')[i]\n",
    "            data_frag['STATUS_PUMP1'] = physical_data.get('STATUS_PUMP1')[i]\n",
    "            data_frag['STATUS_PUMP2'] = physical_data.get('STATUS_PUMP2')[i]\n",
    "            data_frag['Attack#01'] = physical_data.get('Attack#01')[i]\n",
    "            data_frag['Attack#02'] = physical_data.get('Attack#02')[i]\n",
    "            \n",
    "            data.append(data_frag)"
   ]
  },
  {
   "cell_type": "code",
   "execution_count": 6,
   "metadata": {},
   "outputs": [],
   "source": [
    "network_data = rdpcap(\"../../ICS_topologies/enhanced_ctown_topology/year_simulation/week_0/plc2-eth0.pcap\")\n",
    "physical_data = pd.read_csv(\"../../ICS_topologies/enhanced_ctown_topology/year_simulation/week_0/physical_process.csv\")"
   ]
  },
  {
   "cell_type": "code",
   "execution_count": 13,
   "metadata": {},
   "outputs": [
    {
     "name": "stdout",
     "output_type": "stream",
     "text": [
      "###[ Ethernet ]### \n",
      "  dst       = 2e:99:50:e1:22:e1\n",
      "  src       = 00:00:00:00:00:04\n",
      "  type      = IPv4\n",
      "###[ IP ]### \n",
      "     version   = 4\n",
      "     ihl       = 5\n",
      "     tos       = 0x0\n",
      "     len       = 102\n",
      "     id        = 29584\n",
      "     flags     = DF\n",
      "     frag      = 0\n",
      "     ttl       = 64\n",
      "     proto     = tcp\n",
      "     chksum    = 0xfa57\n",
      "     src       = 192.168.1.1\n",
      "     dst       = 10.0.1.1\n",
      "     \\options   \\\n",
      "###[ TCP ]### \n",
      "        sport     = 44818\n",
      "        dport     = 54664\n",
      "        seq       = 1437189783\n",
      "        ack       = 702662807\n",
      "        dataofs   = 8\n",
      "        reserved  = 0\n",
      "        flags     = PA\n",
      "        window    = 57\n",
      "        chksum    = 0xcd02\n",
      "        urgptr    = 0\n",
      "        options   = [('NOP', None), ('NOP', None), ('Timestamp', (649701, 649697))]\n",
      "###[ ENIP_TCP ]### \n",
      "           command_id= SendRRData\n",
      "           length    = 26\n",
      "           session   = 4110497754\n",
      "           status    = success\n",
      "           sender_context= 48\n",
      "           options   = 0\n",
      "###[ ENIP_SendRRData ]### \n",
      "              interface_handle= 0\n",
      "              timeout   = 0\n",
      "              count     = 2\n",
      "              \\items     \\\n",
      "               |###[ ENIP_SendUnitData_Item ]### \n",
      "               |  type_id   = null_address\n",
      "               |  length    = 0\n",
      "               |###[ ENIP_SendUnitData_Item ]### \n",
      "               |  type_id   = unconn_message\n",
      "               |  length    = 10\n",
      "               |###[ CIP ]### \n",
      "               |     direction = response\n",
      "               |     service   = Read_Tag_Service\n",
      "               |     \\path      \\\n",
      "               |     \\status    \\\n",
      "               |      |###[ CIP_ResponseStatus ]### \n",
      "               |      |  reserved  = 0x0\n",
      "               |      |  status    = success\n",
      "               |      |  additional_size= 0x0\n",
      "               |      |  additional= ''\n",
      "               |###[ Raw ]### \n",
      "               |        load      = '\\xca\\x00\\x00\\x00@@'\n",
      "\n"
     ]
    }
   ],
   "source": [
    "network_data[59].show()"
   ]
  },
  {
   "cell_type": "code",
   "execution_count": 18,
   "metadata": {},
   "outputs": [
    {
     "data": {
      "text/plain": [
       "<CIP  direction=response service=Read_Tag_Service status=[<CIP_ResponseStatus  status=Success>] |<Raw  load='\\xca\\x00\\x00\\x00@@' |>>"
      ]
     },
     "execution_count": 18,
     "metadata": {},
     "output_type": "execute_result"
    }
   ],
   "source": [
    "network_data[59]['IP']['TCP']['ENIP_TCP']['CIP']"
   ]
  }
 ],
 "metadata": {
  "kernelspec": {
   "display_name": "Python 3",
   "language": "python",
   "name": "python3"
  },
  "language_info": {
   "codemirror_mode": {
    "name": "ipython",
    "version": 3
   },
   "file_extension": ".py",
   "mimetype": "text/x-python",
   "name": "python",
   "nbconvert_exporter": "python",
   "pygments_lexer": "ipython3",
   "version": "3.7.4"
  }
 },
 "nbformat": 4,
 "nbformat_minor": 2
}
