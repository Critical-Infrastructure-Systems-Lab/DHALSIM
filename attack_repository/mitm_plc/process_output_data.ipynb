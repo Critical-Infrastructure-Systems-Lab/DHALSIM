{
 "cells": [
  {
   "cell_type": "markdown",
   "metadata": {},
   "source": [
    "# Draft of script to merge network and physical data\n",
    "\n",
    "This script has some code that is useful to understand dissecting packets with scapy and merging network and physical data"
   ]
  },
  {
   "cell_type": "code",
   "execution_count": 1,
   "metadata": {},
   "outputs": [],
   "source": [
    "import cip # library that has the packet structure of minicps network data\n",
    "from scapy.all import * # scapy python is a tool to disect network packets\n",
    "from scapy.contrib import modbus\n",
    "import pandas as pd \n",
    "from decimal import Decimal\n",
    "import time"
   ]
  },
  {
   "cell_type": "code",
   "execution_count": 9,
   "metadata": {
    "scrolled": false
   },
   "outputs": [],
   "source": [
    "data = []\n",
    "network_data = rdpcap(\"../../Jupyter_notebooks/experiment_data/way_issue/plc2-eth0.pcap\")\n",
    "physical_data = pd.read_csv(\"../../Jupyter_notebooks/experiment_data/way_issue/physical_process.csv\")\n",
    "# This for goes over all the physical data. The physical data has 672 iterations. What we try to do is relate one physical entry \n",
    "# into the .csv file with all the packets involved in that data entry\n",
    "for i in range(len(physical_data)):\n",
    "    current_epoch = (datetime.strptime(physical_data.get('timestamps')[i], \"%M:%S.%f\")-datetime(1970, 1, 1)).total_seconds()\n",
    "    previous_epoch = (datetime.strptime(physical_data.get('timestamps')[i], \"%M:%S.%f\")-datetime(1970, 1, 1)).total_seconds()    \n",
    "    for nwk in network_data:\n",
    "        if (Decimal(nwk.time)+28800) >= previous_epoch and (Decimal(nwk.time)+28800) <= current_epoch:  \n",
    "            data_frag = {}\n",
    "            data_frag['network_data'] = nwk\n",
    "            data_frag['T_LVL'] = physical_data.get('TANK_LEVEL')[i]   \n",
    "            data_frag['RESERVOIR_LEVEL'] = physical_data.get('RESERVOIR_LEVEL')[i]\n",
    "            data_frag['J421'] = physical_data.get('J421')[i]\n",
    "            data_frag['J332'] = physical_data.get('J332')[i]\n",
    "            data_frag['J156'] = physical_data.get('J156')[i]\n",
    "            data_frag['J39'] = physical_data.get('J39')[i]\n",
    "            data_frag['J269'] = physical_data.get('J269')[i]\n",
    "            data_frag['J273'] = physical_data.get('J273')[i]\n",
    "            data_frag['J280'] = physical_data.get('J280')[i]\n",
    "            data_frag['J285'] = physical_data.get('J285')[i]\n",
    "            data_frag['FLOW_PUMP1'] = physical_data.get('FLOW_PUMP1')[i]\n",
    "            data_frag['FLOW_PUMP2'] = physical_data.get('FLOW_PUMP2')[i]\n",
    "            data_frag['STATUS_PUMP1'] = physical_data.get('STATUS_PUMP1')[i]\n",
    "            data_frag['STATUS_PUMP2'] = physical_data.get('STATUS_PUMP2')[i]\n",
    "            data_frag['Attack#01'] = physical_data.get('Attack#01')[i]\n",
    "            data_frag['Attack#02'] = physical_data.get('Attack#02')[i]\n",
    "            \n",
    "            data.append(data_frag)"
   ]
  },
  {
   "cell_type": "code",
   "execution_count": 18,
   "metadata": {
    "scrolled": true
   },
   "outputs": [
    {
     "data": {
      "text/plain": [
       "74"
      ]
     },
     "execution_count": 18,
     "metadata": {},
     "output_type": "execute_result"
    }
   ],
   "source": [
    "len(data[0]['network_data'])"
   ]
  },
  {
   "cell_type": "code",
   "execution_count": 12,
   "metadata": {},
   "outputs": [
    {
     "data": {
      "text/plain": [
       "<Ether  dst=b6:af:26:39:cd:64 src=5a:87:33:69:f9:53 type=IPv4 |<IP  version=4 ihl=5 tos=0x0 len=60 id=42948 flags=DF frag=0 ttl=64 proto=tcp chksum=0xf89 src=192.168.1.20 dst=192.168.1.10 |<TCP  sport=57056 dport=44818 seq=3682037379 ack=0 dataofs=10 reserved=0 flags=S window=29200 chksum=0x839d urgptr=0 options=[('MSS', 1460), ('SAckOK', b''), ('Timestamp', (26727893, 0)), ('NOP', None), ('WScale', 9)] |>>>"
      ]
     },
     "execution_count": 12,
     "metadata": {},
     "output_type": "execute_result"
    }
   ],
   "source": [
    "data[0]['network_data']"
   ]
  },
  {
   "cell_type": "code",
   "execution_count": 27,
   "metadata": {
    "collapsed": true
   },
   "outputs": [
    {
     "data": {
      "text/plain": [
       "{'network_data': <Ether  dst=5a:87:33:69:f9:53 src=b6:af:26:39:cd:64 type=IPv4 |<IP  version=4 ihl=5 tos=0x0 len=102 id=22635 flags=DF frag=0 ttl=64 proto=tcp chksum=0x5eb8 src=192.168.1.10 dst=192.168.1.20 |<TCP  sport=44818 dport=57088 seq=528424531 ack=1752646756 dataofs=8 reserved=0 flags=PA window=57 chksum=0x83c7 urgptr=0 options=[('NOP', None), ('NOP', None), ('Timestamp', (26728370, 26728366))] |<ENIP_TCP  command_id=SendRRData length=26 session=3557626027 status=success sender_context=48 options=0 |<ENIP_SendRRData  interface_handle=0 timeout=0 count=2 items=[<ENIP_SendUnitData_Item  type_id=null_address length=0 |>, <ENIP_SendUnitData_Item  type_id=unconn_message length=10 |<CIP  direction=response service=Read_Tag_Service status=[<CIP_ResponseStatus  status=Success>] |<Raw  load='\\xca\\x00\\xe1A8@' |>>>] |>>>>>,\n",
       " 'T_LVL': 2.8064021050558665,\n",
       " 'RESERVOIR_LEVEL': 59.0,\n",
       " 'J421': 37.62283634538997,\n",
       " 'J332': 22.28028676247913,\n",
       " 'J156': 35.35082348403,\n",
       " 'J39': 28.32070322035819,\n",
       " 'J269': 35.52341065247582,\n",
       " 'J273': 35.5290782909848,\n",
       " 'J280': 2.9758427191855223,\n",
       " 'J285': 2.971585679104855,\n",
       " 'FLOW_PUMP1': 0.09524731081425347,\n",
       " 'FLOW_PUMP2': 0.0952659160991364,\n",
       " 'STATUS_PUMP1': 1,\n",
       " 'STATUS_PUMP2': 1,\n",
       " 'Attack#01': 0,\n",
       " 'Attack#02': 0}"
      ]
     },
     "execution_count": 27,
     "metadata": {},
     "output_type": "execute_result"
    }
   ],
   "source": [
    "data[56]"
   ]
  },
  {
   "cell_type": "code",
   "execution_count": 10,
   "metadata": {},
   "outputs": [
    {
     "name": "stdout",
     "output_type": "stream",
     "text": [
      "###[ Ethernet ]### \n",
      "  dst       = 5a:87:33:69:f9:53\n",
      "  src       = b6:af:26:39:cd:64\n",
      "  type      = IPv4\n",
      "###[ IP ]### \n",
      "     version   = 4\n",
      "     ihl       = 5\n",
      "     tos       = 0x0\n",
      "     len       = 102\n",
      "     id        = 22635\n",
      "     flags     = DF\n",
      "     frag      = 0\n",
      "     ttl       = 64\n",
      "     proto     = tcp\n",
      "     chksum    = 0x5eb8\n",
      "     src       = 192.168.1.10\n",
      "     dst       = 192.168.1.20\n",
      "     \\options   \\\n",
      "###[ TCP ]### \n",
      "        sport     = 44818\n",
      "        dport     = 57088\n",
      "        seq       = 528424531\n",
      "        ack       = 1752646756\n",
      "        dataofs   = 8\n",
      "        reserved  = 0\n",
      "        flags     = PA\n",
      "        window    = 57\n",
      "        chksum    = 0x83c7\n",
      "        urgptr    = 0\n",
      "        options   = [('NOP', None), ('NOP', None), ('Timestamp', (26728370, 26728366))]\n",
      "###[ ENIP_TCP ]### \n",
      "           command_id= SendRRData\n",
      "           length    = 26\n",
      "           session   = 3557626027\n",
      "           status    = success\n",
      "           sender_context= 48\n",
      "           options   = 0\n",
      "###[ ENIP_SendRRData ]### \n",
      "              interface_handle= 0\n",
      "              timeout   = 0\n",
      "              count     = 2\n",
      "              \\items     \\\n",
      "               |###[ ENIP_SendUnitData_Item ]### \n",
      "               |  type_id   = null_address\n",
      "               |  length    = 0\n",
      "               |###[ ENIP_SendUnitData_Item ]### \n",
      "               |  type_id   = unconn_message\n",
      "               |  length    = 10\n",
      "               |###[ CIP ]### \n",
      "               |     direction = response\n",
      "               |     service   = Read_Tag_Service\n",
      "               |     \\path      \\\n",
      "               |     \\status    \\\n",
      "               |      |###[ CIP_ResponseStatus ]### \n",
      "               |      |  reserved  = 0x0\n",
      "               |      |  status    = success\n",
      "               |      |  additional_size= 0x0\n",
      "               |      |  additional= ''\n",
      "               |###[ Raw ]### \n",
      "               |        load      = '\\xca\\x00\\xe1A8@'\n",
      "\n"
     ]
    }
   ],
   "source": [
    "data[56]['network_data'].show()"
   ]
  },
  {
   "cell_type": "code",
   "execution_count": 28,
   "metadata": {},
   "outputs": [
    {
     "data": {
      "text/plain": [
       "<CIP  direction=response service=Read_Tag_Service status=[<CIP_ResponseStatus  status=Success>] |<Raw  load='\\xca\\x00\\xe1A8@' |>>"
      ]
     },
     "execution_count": 28,
     "metadata": {},
     "output_type": "execute_result"
    }
   ],
   "source": [
    "data[56]['network_data']['IP']['TCP']['ENIP_TCP']['CIP']"
   ]
  }
 ],
 "metadata": {
  "kernelspec": {
   "display_name": "Python 3",
   "language": "python",
   "name": "python3"
  },
  "language_info": {
   "codemirror_mode": {
    "name": "ipython",
    "version": 3
   },
   "file_extension": ".py",
   "mimetype": "text/x-python",
   "name": "python",
   "nbconvert_exporter": "python",
   "pygments_lexer": "ipython3",
   "version": "3.7.4"
  }
 },
 "nbformat": 4,
 "nbformat_minor": 2
}
