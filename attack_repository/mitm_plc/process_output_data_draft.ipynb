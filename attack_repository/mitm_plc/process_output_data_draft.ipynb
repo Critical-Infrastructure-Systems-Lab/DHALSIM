{
 "cells": [
  {
   "cell_type": "code",
   "execution_count": 5,
   "metadata": {},
   "outputs": [],
   "source": [
    "import cip\n",
    "from scapy.all import *\n",
    "import pandas as pd\n",
    "from decimal import Decimal\n",
    "import time"
   ]
  },
  {
   "cell_type": "code",
   "execution_count": 6,
   "metadata": {},
   "outputs": [],
   "source": [
    "data=[]\n",
    "network_data = rdpcap(\"../../Jupyter_notebooks/experiment_data/pressure_driven/attack_mitm_plc2/plc2-eth0.pcap\")\n",
    "physical_data = pd.read_csv(\"../../Jupyter_notebooks/experiment_data/pressure_driven/attack_mitm_plc2/physical_results.csv\")"
   ]
  },
  {
   "cell_type": "code",
   "execution_count": 31,
   "metadata": {
    "scrolled": true
   },
   "outputs": [],
   "source": [
    "phy_index = 1\n",
    "previous_phy_index = phy_index - 1\n",
    "data = []\n",
    "#><\n",
    "for i in range(1,len(physical_data)):\n",
    "#for i in range(1,10):\n",
    "    current_epoch = (datetime.strptime(physical_data.get('timestamps')[i], \"%Y-%m-%d %H:%M:%S.%f\")-datetime(1970, 1, 1)).total_seconds()\n",
    "    previous_epoch = (datetime.strptime(physical_data.get('timestamps')[i-1], \"%Y-%m-%d %H:%M:%S.%f\")-datetime(1970, 1, 1)).total_seconds()    \n",
    "    for nwk in network_data:\n",
    "        if (Decimal(nwk.time)+28800) >= previous_epoch and (Decimal(nwk.time)+28800) <= current_epoch:            \n",
    "            data_frag = dict.fromkeys('network_data', 'T_LVL')\n",
    "            data_frag['network_data'] = nwk\n",
    "            data_frag['T_LVL'] = physical_data.get('TANK_LEVEL')[i]        \n",
    "            data.append(data_frag) "
   ]
  },
  {
   "cell_type": "code",
   "execution_count": 7,
   "metadata": {},
   "outputs": [
    {
     "name": "stdout",
     "output_type": "stream",
     "text": [
      "Previous epoch: 2020-03-10 17:16:20.250893\n",
      "Previous epoch: 1583860580.250893\n"
     ]
    }
   ],
   "source": [
    "print(\"Previous epoch: \" + physical_data.get('timestamps')[0])\n",
    "print(\"Previous epoch: \" + str ( ( datetime.strptime(physical_data.get('timestamps')[0], \"%Y-%m-%d %H:%M:%S.%f\") - datetime(1970, 1, 1) ) .total_seconds() ) )"
   ]
  },
  {
   "cell_type": "code",
   "execution_count": 8,
   "metadata": {},
   "outputs": [
    {
     "name": "stdout",
     "output_type": "stream",
     "text": [
      "Current epoch: 2020-03-10 17:16:20.857480\n",
      "Current epoch: 1583860580.85748\n"
     ]
    }
   ],
   "source": [
    "print(\"Current epoch: \" + physical_data.get('timestamps')[1])\n",
    "print(\"Current epoch: \" + str ( ( datetime.strptime(physical_data.get('timestamps')[1], \"%Y-%m-%d %H:%M:%S.%f\") - datetime(1970, 1, 1) ) .total_seconds() ) )"
   ]
  },
  {
   "cell_type": "code",
   "execution_count": 9,
   "metadata": {},
   "outputs": [
    {
     "name": "stdout",
     "output_type": "stream",
     "text": [
      "1583831780.417005\n",
      "time.struct_time(tm_year=2020, tm_mon=3, tm_mday=10, tm_hour=17, tm_min=16, tm_sec=20, tm_wday=1, tm_yday=70, tm_isdst=0)\n",
      "time.struct_time(tm_year=2020, tm_mon=3, tm_mday=10, tm_hour=9, tm_min=16, tm_sec=20, tm_wday=1, tm_yday=70, tm_isdst=0)\n",
      "1583831780.0\n",
      "1583860580.417005\n"
     ]
    }
   ],
   "source": [
    "print(network_data[123].time)\n",
    "print(time.localtime(network_data[123].time))\n",
    "print(time.gmtime(network_data[123].time))\n",
    "\n",
    "print(time.mktime(time.localtime(network_data[123].time)))\n",
    "\n",
    "test=network_data[123].time+28800\n",
    "print(test)"
   ]
  },
  {
   "cell_type": "code",
   "execution_count": 13,
   "metadata": {
    "scrolled": true
   },
   "outputs": [
    {
     "name": "stdout",
     "output_type": "stream",
     "text": [
      "{'n': 'T_LVL', 'e': 'T_LVL', 't': 'T_LVL', 'w': 'T_LVL', 'o': 'T_LVL', 'r': 'T_LVL', 'k': 'T_LVL', '_': 'T_LVL', 'd': 'T_LVL', 'a': 'T_LVL', 'network_data': <Ether  dst=b6:af:26:39:cd:64 src=5a:87:33:69:f9:53 type=IPv4 |<IP  version=4 ihl=5 tos=0x0 len=52 id=44662 flags=DF frag=0 ttl=64 proto=tcp chksum=0x8df src=192.168.1.20 dst=192.168.1.10 |<TCP  sport=57148 dport=44818 seq=3315876170 ack=929744150 dataofs=8 reserved=0 flags=A window=58 chksum=0x8395 urgptr=0 options=[('NOP', None), ('NOP', None), ('Timestamp', (26729176, 26729176))] |>>>, 'T_LVL': 2.6558766699191665}\n"
     ]
    }
   ],
   "source": [
    "print(data[-1])"
   ]
  }
 ],
 "metadata": {
  "kernelspec": {
   "display_name": "Python 3",
   "language": "python",
   "name": "python3"
  },
  "language_info": {
   "codemirror_mode": {
    "name": "ipython",
    "version": 3
   },
   "file_extension": ".py",
   "mimetype": "text/x-python",
   "name": "python",
   "nbconvert_exporter": "python",
   "pygments_lexer": "ipython3",
   "version": "3.7.4"
  }
 },
 "nbformat": 4,
 "nbformat_minor": 2
}
