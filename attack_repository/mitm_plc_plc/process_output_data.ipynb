{
 "cells": [
  {
   "cell_type": "code",
   "execution_count": 1,
   "metadata": {},
   "outputs": [],
   "source": [
    "import cip\n",
    "from scapy.all import *\n",
    "import pandas as pd\n"
   ]
  },
  {
   "cell_type": "code",
   "execution_count": 2,
   "metadata": {},
   "outputs": [],
   "source": [
    "data=[]\n",
    "network_data = rdpcap(\"../../Jupyter_notebooks/experiment_data/pressure_driven/attack_mitm_plc2/plc2-eth0.pcap\")\n",
    "physical_data = pd.read_csv(\"../../Jupyter_notebooks/experiment_data/pressure_driven/attack_mitm_plc2/physical_results.csv\")"
   ]
  },
  {
   "cell_type": "code",
   "execution_count": null,
   "metadata": {
    "scrolled": false
   },
   "outputs": [],
   "source": [
    "phy_index = 1\n",
    "previous_phy_index = phy_index - 1\n",
    "data = []\n",
    "#><\n",
    "for i in range(1,len(physical_data)):\n",
    "    current_epoch = (datetime.strptime(physical_data.get('timestamps')[i], \"%Y-%m-%d %H:%M:%S.%f\")-datetime(1970, 1, 1)).total_seconds()\n",
    "    previous_epoch = (datetime.strptime(physical_data.get('timestamps')[i-1], \"%Y-%m-%d %H:%M:%S.%f\")-datetime(1970, 1, 1)).total_seconds()\n",
    "    for nwk in network_data:\n",
    "        if nwk.time > previous_epoch and nwk.time < current_epoch:\n",
    "            print('here')\n",
    "            data_frag = dict.fromkeys('network_data', 'T_LVL')\n",
    "            data_frag['network_data'] = nwk\n",
    "            data_frag['T_LVL'] = physical_data.get('TANK_LEVEL')[i]        \n",
    "            data.append(data_frag)\n",
    "            \n",
    "            \n",
    "        \n",
    "        "
   ]
  },
  {
   "cell_type": "code",
   "execution_count": 22,
   "metadata": {},
   "outputs": [
    {
     "name": "stdout",
     "output_type": "stream",
     "text": [
      "1583860987.039596\n"
     ]
    }
   ],
   "source": [
    "print(previous_epoch)"
   ]
  },
  {
   "cell_type": "code",
   "execution_count": 23,
   "metadata": {},
   "outputs": [
    {
     "name": "stdout",
     "output_type": "stream",
     "text": [
      "1583860987.672547\n"
     ]
    }
   ],
   "source": [
    "print(current_epoch)"
   ]
  },
  {
   "cell_type": "code",
   "execution_count": 24,
   "metadata": {},
   "outputs": [
    {
     "data": {
      "text/plain": [
       "Decimal('1583832194.778746')"
      ]
     },
     "execution_count": 24,
     "metadata": {},
     "output_type": "execute_result"
    }
   ],
   "source": [
    "nwk.time"
   ]
  }
 ],
 "metadata": {
  "kernelspec": {
   "display_name": "Python 3",
   "language": "python",
   "name": "python3"
  },
  "language_info": {
   "codemirror_mode": {
    "name": "ipython",
    "version": 3
   },
   "file_extension": ".py",
   "mimetype": "text/x-python",
   "name": "python",
   "nbconvert_exporter": "python",
   "pygments_lexer": "ipython3",
   "version": "3.7.4"
  }
 },
 "nbformat": 4,
 "nbformat_minor": 2
}
