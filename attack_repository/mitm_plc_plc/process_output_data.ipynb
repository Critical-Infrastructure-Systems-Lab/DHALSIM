{
 "cells": [
  {
   "cell_type": "code",
   "execution_count": 2,
   "metadata": {},
   "outputs": [],
   "source": [
    "import cip\n",
    "from scapy.all import *\n",
    "import pandas as pd\n",
    "from decimal import Decimal\n",
    "import time"
   ]
  },
  {
   "cell_type": "code",
   "execution_count": 3,
   "metadata": {},
   "outputs": [],
   "source": [
    "data=[]\n",
    "network_data = rdpcap(\"../../Jupyter_notebooks/experiment_data/pressure_driven/attack_mitm_plc2/plc2-eth0.pcap\")\n",
    "physical_data = pd.read_csv(\"../../Jupyter_notebooks/experiment_data/pressure_driven/attack_mitm_plc2/physical_results.csv\")"
   ]
  },
  {
   "cell_type": "code",
   "execution_count": 11,
   "metadata": {
    "scrolled": true
   },
   "outputs": [],
   "source": [
    "data = []\n",
    "for i in range(1,10):\n",
    "    current_epoch = (datetime.strptime(physical_data.get('timestamps')[i], \"%Y-%m-%d %H:%M:%S.%f\")-datetime(1970, 1, 1)).total_seconds()\n",
    "    previous_epoch = (datetime.strptime(physical_data.get('timestamps')[i-1], \"%Y-%m-%d %H:%M:%S.%f\")-datetime(1970, 1, 1)).total_seconds()    \n",
    "    for nwk in network_data:\n",
    "        if (Decimal(nwk.time)+28800) >= previous_epoch and (Decimal(nwk.time)+28800) <= current_epoch:            \n",
    "            data_frag = {}\n",
    "            data_frag['network_data'] = nwk\n",
    "            data_frag['T_LVL'] = physical_data.get('TANK_LEVEL')[i]   \n",
    "            data_frag['RESERVOIR_LEVEL'] = physical_data.get('RESERVOIR_LEVEL')[i]\n",
    "            data_frag['J421'] = physical_data.get('J421')[i]\n",
    "            data_frag['J332'] = physical_data.get('J332')[i]\n",
    "            data_frag['J156'] = physical_data.get('J156')[i]\n",
    "            data_frag['J39'] = physical_data.get('J39')[i]\n",
    "            data_frag['J269'] = physical_data.get('J269')[i]\n",
    "            data_frag['J273'] = physical_data.get('J273')[i]\n",
    "            data_frag['J280'] = physical_data.get('J280')[i]\n",
    "            data_frag['J285'] = physical_data.get('J285')[i]\n",
    "            data_frag['FLOW_PUMP1'] = physical_data.get('FLOW_PUMP1')[i]\n",
    "            data_frag['FLOW_PUMP2'] = physical_data.get('FLOW_PUMP2')[i]\n",
    "            data_frag['STATUS_PUMP1'] = physical_data.get('STATUS_PUMP1')[i]\n",
    "            data_frag['STATUS_PUMP2'] = physical_data.get('STATUS_PUMP2')[i]\n",
    "            data_frag['Attack#01'] = physical_data.get('Attack#01')[i]\n",
    "            data_frag['Attack#02'] = physical_data.get('Attack#02')[i]\n",
    "            \n",
    "            data.append(data_frag)"
   ]
  }
 ],
 "metadata": {
  "kernelspec": {
   "display_name": "Python 3",
   "language": "python",
   "name": "python3"
  },
  "language_info": {
   "codemirror_mode": {
    "name": "ipython",
    "version": 3
   },
   "file_extension": ".py",
   "mimetype": "text/x-python",
   "name": "python",
   "nbconvert_exporter": "python",
   "pygments_lexer": "ipython3",
   "version": "3.7.4"
  }
 },
 "nbformat": 4,
 "nbformat_minor": 2
}
