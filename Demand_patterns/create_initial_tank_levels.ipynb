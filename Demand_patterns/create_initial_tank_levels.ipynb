{
 "cells": [
  {
   "cell_type": "code",
   "execution_count": 5,
   "metadata": {},
   "outputs": [],
   "source": [
    "import numpy as np\n",
    "import csv\n",
    "import pandas as pd"
   ]
  },
  {
   "cell_type": "code",
   "execution_count": 2,
   "metadata": {},
   "outputs": [],
   "source": [
    "list_header = \"INITIAL_TANK_LEVEL\""
   ]
  },
  {
   "cell_type": "code",
   "execution_count": 3,
   "metadata": {},
   "outputs": [],
   "source": [
    "initial_tank_levels = []\n",
    "initial_tank_levels.append([list_header])\n",
    "for i in range(0,30):\n",
    "    value = [2+np.random.rand()*2]\n",
    "    initial_tank_levels.append(value)"
   ]
  },
  {
   "cell_type": "code",
   "execution_count": 4,
   "metadata": {},
   "outputs": [
    {
     "data": {
      "text/plain": [
       "['INITIAL_TANK_LEVEL',\n",
       " [2.101607911132824],\n",
       " [3.6558262206295797],\n",
       " [2.6052447277889037],\n",
       " [2.560826767830261],\n",
       " [2.95912339706576],\n",
       " [3.8325177038236555],\n",
       " [2.4749619546913832],\n",
       " [2.6165446459101336],\n",
       " [2.3284976187381554],\n",
       " [2.777577759014083],\n",
       " [2.330047867746061],\n",
       " [3.3765383974813177],\n",
       " [3.3120707462772248],\n",
       " [2.6810487349184333],\n",
       " [2.5112023559824257],\n",
       " [2.946609691571733],\n",
       " [3.643506207361944],\n",
       " [3.1256078107962253],\n",
       " [2.7996703547438386],\n",
       " [3.940282012292979],\n",
       " [3.5418651415396516],\n",
       " [3.4116972899466083],\n",
       " [2.6681756226981053],\n",
       " [2.5012812807376497],\n",
       " [3.5978101117973775],\n",
       " [2.4782477233403575],\n",
       " [2.146352985185274],\n",
       " [3.771404871479146],\n",
       " [2.6614159822691414],\n",
       " [3.1129198229790567]]"
      ]
     },
     "execution_count": 4,
     "metadata": {},
     "output_type": "execute_result"
    }
   ],
   "source": [
    "initial_tank_levels"
   ]
  },
  {
   "cell_type": "code",
   "execution_count": 4,
   "metadata": {},
   "outputs": [],
   "source": [
    "with open('minitown_initial_tank_levels.csv', 'w', newline='\\n') as f:\n",
    "    writer = csv.writer(f)\n",
    "    writer.writerows(initial_tank_levels)"
   ]
  },
  {
   "cell_type": "code",
   "execution_count": 23,
   "metadata": {},
   "outputs": [],
   "source": [
    "initial_tank_levels = pd.read_csv('minitown_initial_tank_levels.csv', index_col=0)"
   ]
  }
 ],
 "metadata": {
  "kernelspec": {
   "display_name": "Python 3",
   "language": "python",
   "name": "python3"
  },
  "language_info": {
   "codemirror_mode": {
    "name": "ipython",
    "version": 3
   },
   "file_extension": ".py",
   "mimetype": "text/x-python",
   "name": "python",
   "nbconvert_exporter": "python",
   "pygments_lexer": "ipython3",
   "version": "3.7.4"
  }
 },
 "nbformat": 4,
 "nbformat_minor": 2
}
