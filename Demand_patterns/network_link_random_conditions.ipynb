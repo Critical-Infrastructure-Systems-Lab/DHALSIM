{
 "cells": [
  {
   "cell_type": "code",
   "execution_count": null,
   "metadata": {},
   "outputs": [],
   "source": [
    "# load module\n",
    "import pandas as pd\n",
    "import csv\n",
    "import random"
   ]
  },
  {
   "cell_type": "code",
   "execution_count": null,
   "metadata": {},
   "outputs": [],
   "source": [
    "# Create a pandas dataframe with initial tank levels for the 7 C-Town tanks and 38 weeks\n",
    "\n",
    "# Parameters for the Rayleigh distribution of the link network delay\n",
    "mean_delay = 50.0\n",
    "sigma_delay = math.sqrt( 2*math.pow(mean_delay,2) / math.pi )\n",
    "delay_distribution = random.rayleigh(scale=sigma_delay, size=10000)\n",
    "dd = plt.subplot(4,1,1)\n",
    "\n",
    "\n",
    "\n",
    "values=[]\n",
    "link_names = ['r1', 'r2', 'r3', 'r4', 'r5', 'r6', 'r7', 'r8', 'r9']\n",
    "min_value = tank_max_value*0.05\n",
    "max_value = tank_max_value*0.95\n",
    "for name in link_names:\n",
    "    aux=[]\n",
    "    for i in range(0,38):\n",
    "\n",
    "        value = random.uniform(min_value, max_value)        \n",
    "        aux.append(value)\n",
    "    values.append(aux)\n",
    "tank_initial_levels = pd.DataFrame(data = values).T\n",
    "tank_initial_levels.columns = tank_names\n",
    "print(tank_initial_levels)\n",
    "tank_initial_levels.to_csv('tank_initial_conditions.csv')"
   ]
  }
 ],
 "metadata": {
  "kernelspec": {
   "display_name": "Python 3",
   "language": "python",
   "name": "python3"
  },
  "language_info": {
   "codemirror_mode": {
    "name": "ipython",
    "version": 3
   },
   "file_extension": ".py",
   "mimetype": "text/x-python",
   "name": "python",
   "nbconvert_exporter": "python",
   "pygments_lexer": "ipython3",
   "version": "3.7.4"
  }
 },
 "nbformat": 4,
 "nbformat_minor": 2
}
