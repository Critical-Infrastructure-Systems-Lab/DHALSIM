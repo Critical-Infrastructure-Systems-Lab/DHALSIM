{
 "cells": [
  {
   "cell_type": "markdown",
   "metadata": {},
   "source": [
    "# C-Town year simulation using weeks\n",
    "\n",
    "This notebook can be used to run a C-Town simulation for 9 months in a \"week-by-week\" (weeks of 10-days) basis\n",
    "The notebook reads from .csv files to define the tank level initial conditions for the week and the demand patterns for that week. \n",
    "The tank initial levels are stored in \"tank_initial_conditions\" and the demand points are defined in \"starting_demand_points\" and \"three_years_demands_ctown\""
   ]
  },
  {
   "cell_type": "code",
   "execution_count": 1,
   "metadata": {},
   "outputs": [],
   "source": [
    "# load module\n",
    "import pandas as pd\n",
    "import numpy as np\n",
    "import matplotlib.pyplot as plt\n",
    "%matplotlib inline\n",
    "import wntr\n",
    "import wntr_utils\n",
    "from sklearn.preprocessing import MinMaxScaler\n",
    "from random import shuffle\n",
    "import csv\n",
    "import random"
   ]
  },
  {
   "cell_type": "code",
   "execution_count": 2,
   "metadata": {},
   "outputs": [],
   "source": [
    "week_index = 0\n",
    "total_demands = pd.read_csv('three_year_demands_ctown.csv', index_col=0)\n",
    "demand_starting_points = pd.read_csv('starting_demand_points.csv', index_col=0)\n",
    "initial_tank_levels = pd.read_csv('tank_initial_conditions.csv', index_col=0)\n",
    "network_delays = pd.read_csv('network_links_delay.csv', index_col=0)\n",
    "network_losses = pd.read_csv('network_loss_small.csv', index_col=0)"
   ]
  },
  {
   "cell_type": "code",
   "execution_count": 3,
   "metadata": {},
   "outputs": [
    {
     "name": "stderr",
     "output_type": "stream",
     "text": [
      "C:\\Users\\Azulm\\Anaconda3\\lib\\site-packages\\wntr\\epanet\\io.py:2085: UserWarning: Not all curves were used in \"ctown_map_with_controls.inp\"; added with type None, units conversion left to user\n",
      "  warnings.warn('Not all curves were used in \"{}\"; added with type None, units conversion left to user'.format(self.wn.name))\n"
     ]
    }
   ],
   "source": [
    "# load EPANET model\n",
    "inp_file = 'ctown_map_with_controls.inp'\n",
    "wn = wntr.network.WaterNetworkModel(inp_file)"
   ]
  },
  {
   "cell_type": "code",
   "execution_count": 4,
   "metadata": {},
   "outputs": [
    {
     "data": {
      "text/plain": [
       "864000"
      ]
     },
     "execution_count": 4,
     "metadata": {},
     "output_type": "execute_result"
    }
   ],
   "source": [
    "wn.options.time.duration"
   ]
  },
  {
   "cell_type": "code",
   "execution_count": 5,
   "metadata": {},
   "outputs": [
    {
     "data": {
      "text/plain": [
       "864000"
      ]
     },
     "execution_count": 5,
     "metadata": {},
     "output_type": "execute_result"
    }
   ],
   "source": [
    "wn.options.time.duration"
   ]
  },
  {
   "cell_type": "code",
   "execution_count": 6,
   "metadata": {},
   "outputs": [
    {
     "data": {
      "text/plain": [
       "300"
      ]
     },
     "execution_count": 6,
     "metadata": {},
     "output_type": "execute_result"
    }
   ],
   "source": [
    "wn.options.time.hydraulic_timestep"
   ]
  },
  {
   "cell_type": "code",
   "execution_count": 7,
   "metadata": {},
   "outputs": [],
   "source": [
    "week_index = 0\n",
    "week_start = demand_starting_points.iloc[week_index][0]"
   ]
  },
  {
   "cell_type": "code",
   "execution_count": 9,
   "metadata": {},
   "outputs": [],
   "source": [
    "week_demands = total_demands.loc[week_start:week_start+240:]"
   ]
  },
  {
   "cell_type": "code",
   "execution_count": 10,
   "metadata": {},
   "outputs": [],
   "source": [
    "# Replace the demand patterns with the random patterns for this week\n",
    "names, patterns =[],[]\n",
    "for name, pat in wn.patterns():  \n",
    "    pat.multipliers = week_demands[name].values.tolist()"
   ]
  },
  {
   "cell_type": "code",
   "execution_count": 11,
   "metadata": {},
   "outputs": [
    {
     "data": {
      "text/plain": [
       "864000"
      ]
     },
     "execution_count": 11,
     "metadata": {},
     "output_type": "execute_result"
    }
   ],
   "source": [
    "wn.options.time.duration"
   ]
  },
  {
   "cell_type": "code",
   "execution_count": 12,
   "metadata": {},
   "outputs": [
    {
     "name": "stdout",
     "output_type": "stream",
     "text": [
      "('DMA1_pat', <Pattern 'DMA1_pat', multipliers=array([0.819, 0.633, 0.634, 0.639, 0.538, 0.491, 0.565, 0.555, 0.536, 0.602, 0.567, 0.512, 0.528, 0.519, 0.384, 0.482, 0.426, 0.35 , 0.327, 0.394, 0.36 , 0.623, 0.691, 0.643, 0.709, 0.676, 0.643, 0.608, 0.566, 0.553, 0.504, 0.538, 0.558, 0.547, 0.559, 0.587, 0.539, 0.466, 0.438, 0.479, 0.486,\n",
      "       0.335, 0.345, 0.337, 0.391, 0.494, 0.703, 0.693, 0.693, 0.738, 0.565, 0.641, 0.599, 0.533, 0.534, 0.536, 0.538, 0.547, 0.566, 0.599, 0.537, 0.48 , 0.468, 0.539, 0.42 , 0.341, 0.4  , 0.367, 0.405, 0.481, 0.625, 0.781, 0.731, 0.7  , 0.613, 0.596, 0.633, 0.596, 0.49 , 0.494, 0.566, 0.543,\n",
      "       0.514, 0.585, 0.492, 0.502, 0.457, 0.624, 0.475, 0.325, 0.346, 0.339, 0.42 , 0.522, 0.643, 0.772, 0.727, 0.723, 0.644, 0.613, 0.575, 0.583, 0.546, 0.556, 0.6  , 0.63 , 0.553, 0.57 , 0.522, 0.465, 0.443, 0.606, 0.473, 0.354, 0.329, 0.366, 0.427, 0.504, 0.702, 0.727, 0.754, 0.723, 0.612,\n",
      "       0.594, 0.554, 0.538, 0.587, 0.508, 0.606, 0.627, 0.542, 0.518, 0.586, 0.427, 0.397, 0.482, 0.438, 0.365, 0.352, 0.348, 0.399, 0.473, 0.661, 0.656, 0.727, 0.686, 0.671, 0.635, 0.514, 0.519, 0.517, 0.542, 0.629, 0.601, 0.556, 0.587, 0.477, 0.487, 0.411, 0.519, 0.567, 0.368, 0.347, 0.363,\n",
      "       0.428, 0.537, 0.64 , 0.742, 0.722, 0.737, 0.629, 0.553, 0.512, 0.554, 0.582, 0.508, 0.498, 0.636, 0.6  , 0.559, 0.488, 0.519, 0.452, 0.487, 0.449, 0.347, 0.356, 0.359, 0.372, 0.485, 0.671, 0.677, 0.703, 0.649, 0.665, 0.582, 0.646, 0.525, 0.533, 0.561, 0.576, 0.615, 0.533, 0.573, 0.525,\n",
      "       0.5  , 0.424, 0.509, 0.449, 0.343, 0.322, 0.377, 0.438, 0.544, 0.614, 0.742, 0.749, 0.643, 0.63 , 0.573, 0.574, 0.502, 0.516, 0.578, 0.579, 0.581, 0.599, 0.554, 0.505, 0.507, 0.403, 0.507, 0.449, 0.342, 0.353, 0.331, 0.379, 0.514, 0.697, 0.796, 0.684])>)\n",
      "('DMA2_pat', <Pattern 'DMA2_pat', multipliers=array([0.781, 0.637, 0.608, 0.593, 0.608, 0.545, 0.571, 0.515, 0.553, 0.566, 0.525, 0.58 , 0.56 , 0.409, 0.396, 0.517, 0.451, 0.343, 0.363, 0.342, 0.402, 0.546, 0.656, 0.746, 0.749, 0.691, 0.763, 0.657, 0.602, 0.523, 0.466, 0.55 , 0.584, 0.556, 0.578, 0.599, 0.465, 0.519, 0.48 , 0.503, 0.448,\n",
      "       0.377, 0.352, 0.355, 0.412, 0.552, 0.714, 0.804, 0.759, 0.697, 0.562, 0.562, 0.548, 0.52 , 0.497, 0.528, 0.588, 0.56 , 0.597, 0.569, 0.477, 0.512, 0.444, 0.454, 0.496, 0.351, 0.349, 0.382, 0.383, 0.489, 0.68 , 0.755, 0.692, 0.724, 0.693, 0.589, 0.523, 0.528, 0.512, 0.594, 0.558, 0.561,\n",
      "       0.537, 0.524, 0.529, 0.447, 0.445, 0.432, 0.395, 0.336, 0.372, 0.396, 0.475, 0.574, 0.665, 0.818, 0.69 , 0.653, 0.602, 0.621, 0.607, 0.537, 0.532, 0.5  , 0.567, 0.619, 0.641, 0.529, 0.511, 0.491, 0.44 , 0.453, 0.452, 0.349, 0.358, 0.353, 0.476, 0.533, 0.661, 0.711, 0.751, 0.694, 0.625,\n",
      "       0.626, 0.631, 0.534, 0.493, 0.522, 0.555, 0.567, 0.586, 0.622, 0.489, 0.465, 0.436, 0.468, 0.433, 0.363, 0.363, 0.348, 0.438, 0.54 , 0.646, 0.719, 0.769, 0.683, 0.608, 0.514, 0.57 , 0.511, 0.487, 0.464, 0.479, 0.565, 0.672, 0.568, 0.499, 0.477, 0.436, 0.479, 0.394, 0.342, 0.348, 0.37 ,\n",
      "       0.462, 0.581, 0.688, 0.77 , 0.77 , 0.601, 0.58 , 0.589, 0.618, 0.53 , 0.538, 0.48 , 0.596, 0.546, 0.567, 0.601, 0.519, 0.438, 0.445, 0.465, 0.415, 0.34 , 0.346, 0.338, 0.413, 0.581, 0.696, 0.735, 0.798, 0.673, 0.637, 0.622, 0.518, 0.522, 0.49 , 0.507, 0.56 , 0.539, 0.541, 0.538, 0.553,\n",
      "       0.519, 0.423, 0.45 , 0.437, 0.316, 0.383, 0.372, 0.439, 0.558, 0.739, 0.677, 0.653, 0.674, 0.617, 0.678, 0.584, 0.508, 0.53 , 0.495, 0.567, 0.592, 0.601, 0.565, 0.539, 0.491, 0.417, 0.472, 0.448, 0.328, 0.35 , 0.326, 0.414, 0.578, 0.642, 0.797, 0.742])>)\n",
      "('DMA3_pat', <Pattern 'DMA3_pat', multipliers=array([0.592, 0.659, 0.594, 0.626, 0.567, 0.516, 0.531, 0.476, 0.557, 0.591, 0.52 , 0.573, 0.503, 0.444, 0.388, 0.513, 0.433, 0.367, 0.331, 0.346, 0.352, 0.473, 0.618, 0.652, 0.623, 0.71 , 0.615, 0.554, 0.535, 0.519, 0.505, 0.519, 0.56 , 0.586, 0.579, 0.557, 0.517, 0.441, 0.441, 0.486, 0.474,\n",
      "       0.378, 0.346, 0.377, 0.435, 0.526, 0.703, 0.719, 0.739, 0.705, 0.549, 0.564, 0.582, 0.472, 0.541, 0.539, 0.557, 0.553, 0.571, 0.595, 0.522, 0.459, 0.443, 0.481, 0.398, 0.356, 0.367, 0.349, 0.391, 0.518, 0.613, 0.697, 0.741, 0.649, 0.591, 0.665, 0.647, 0.528, 0.521, 0.477, 0.518, 0.576,\n",
      "       0.522, 0.561, 0.521, 0.467, 0.417, 0.503, 0.438, 0.315, 0.334, 0.389, 0.456, 0.529, 0.592, 0.699, 0.757, 0.711, 0.651, 0.649, 0.559, 0.488, 0.556, 0.535, 0.506, 0.642, 0.575, 0.504, 0.488, 0.436, 0.368, 0.477, 0.423, 0.34 , 0.361, 0.361, 0.45 , 0.527, 0.647, 0.764, 0.716, 0.714, 0.645,\n",
      "       0.623, 0.592, 0.55 , 0.511, 0.466, 0.59 , 0.647, 0.473, 0.504, 0.466, 0.458, 0.424, 0.456, 0.443, 0.372, 0.354, 0.396, 0.462, 0.554, 0.692, 0.628, 0.706, 0.667, 0.655, 0.535, 0.512, 0.443, 0.468, 0.54 , 0.584, 0.544, 0.493, 0.557, 0.526, 0.472, 0.431, 0.429, 0.458, 0.378, 0.366, 0.335,\n",
      "       0.405, 0.556, 0.646, 0.765, 0.753, 0.768, 0.624, 0.617, 0.565, 0.461, 0.537, 0.55 , 0.494, 0.553, 0.557, 0.555, 0.513, 0.492, 0.422, 0.423, 0.455, 0.339, 0.336, 0.351, 0.487, 0.518, 0.696, 0.735, 0.753, 0.705, 0.61 , 0.641, 0.603, 0.5  , 0.509, 0.489, 0.509, 0.529, 0.597, 0.582, 0.498,\n",
      "       0.476, 0.425, 0.469, 0.438, 0.359, 0.358, 0.348, 0.388, 0.534, 0.621, 0.705, 0.697, 0.631, 0.613, 0.614, 0.589, 0.429, 0.481, 0.509, 0.501, 0.565, 0.541, 0.533, 0.504, 0.456, 0.411, 0.467, 0.457, 0.325, 0.323, 0.374, 0.419, 0.514, 0.63 , 0.687, 0.846])>)\n",
      "('DMA4_pat', <Pattern 'DMA4_pat', multipliers=array([0.756, 0.624, 0.601, 0.619, 0.565, 0.472, 0.51 , 0.592, 0.507, 0.607, 0.496, 0.521, 0.449, 0.458, 0.464, 0.459, 0.442, 0.351, 0.354, 0.325, 0.432, 0.517, 0.604, 0.637, 0.681, 0.694, 0.659, 0.557, 0.548, 0.498, 0.529, 0.49 , 0.527, 0.577, 0.615, 0.589, 0.489, 0.476, 0.427, 0.487, 0.476,\n",
      "       0.361, 0.336, 0.375, 0.41 , 0.571, 0.598, 0.726, 0.719, 0.637, 0.613, 0.524, 0.547, 0.515, 0.469, 0.536, 0.577, 0.519, 0.542, 0.547, 0.463, 0.454, 0.454, 0.513, 0.403, 0.334, 0.352, 0.32 , 0.398, 0.514, 0.623, 0.763, 0.702, 0.726, 0.591, 0.628, 0.567, 0.543, 0.509, 0.547, 0.57 , 0.521,\n",
      "       0.482, 0.513, 0.468, 0.445, 0.382, 0.568, 0.432, 0.36 , 0.349, 0.389, 0.431, 0.529, 0.597, 0.654, 0.765, 0.704, 0.644, 0.607, 0.561, 0.513, 0.472, 0.446, 0.511, 0.552, 0.544, 0.525, 0.529, 0.48 , 0.43 , 0.545, 0.45 , 0.338, 0.334, 0.344, 0.387, 0.541, 0.647, 0.671, 0.706, 0.615, 0.583,\n",
      "       0.584, 0.523, 0.479, 0.567, 0.506, 0.592, 0.559, 0.583, 0.622, 0.462, 0.478, 0.432, 0.475, 0.504, 0.349, 0.345, 0.403, 0.395, 0.443, 0.621, 0.58 , 0.652, 0.689, 0.58 , 0.624, 0.628, 0.57 , 0.461, 0.536, 0.643, 0.552, 0.587, 0.506, 0.523, 0.481, 0.434, 0.508, 0.46 , 0.344, 0.375, 0.368,\n",
      "       0.368, 0.535, 0.638, 0.692, 0.7  , 0.622, 0.564, 0.569, 0.572, 0.473, 0.479, 0.487, 0.546, 0.593, 0.594, 0.548, 0.544, 0.416, 0.481, 0.458, 0.451, 0.353, 0.352, 0.351, 0.4  , 0.492, 0.642, 0.681, 0.712, 0.645, 0.599, 0.581, 0.534, 0.505, 0.538, 0.506, 0.551, 0.57 , 0.594, 0.59 , 0.523,\n",
      "       0.487, 0.451, 0.471, 0.435, 0.339, 0.349, 0.401, 0.376, 0.517, 0.619, 0.673, 0.756, 0.616, 0.602, 0.594, 0.502, 0.478, 0.518, 0.511, 0.505, 0.559, 0.581, 0.581, 0.573, 0.503, 0.398, 0.478, 0.44 , 0.346, 0.326, 0.381, 0.426, 0.548, 0.711, 0.718, 0.684])>)\n",
      "('DMA5_pat', <Pattern 'DMA5_pat', multipliers=array([0.729, 0.715, 0.69 , 0.56 , 0.552, 0.526, 0.469, 0.575, 0.615, 0.551, 0.595, 0.551, 0.525, 0.46 , 0.436, 0.542, 0.465, 0.311, 0.336, 0.367, 0.43 , 0.53 , 0.71 , 0.794, 0.812, 0.699, 0.629, 0.557, 0.55 , 0.523, 0.485, 0.527, 0.533, 0.557, 0.589, 0.533, 0.545, 0.438, 0.378, 0.457, 0.43 ,\n",
      "       0.357, 0.339, 0.352, 0.401, 0.468, 0.708, 0.731, 0.751, 0.72 , 0.658, 0.578, 0.537, 0.466, 0.52 , 0.51 , 0.546, 0.569, 0.601, 0.587, 0.526, 0.466, 0.399, 0.546, 0.424, 0.341, 0.347, 0.369, 0.413, 0.446, 0.642, 0.824, 0.711, 0.729, 0.591, 0.706, 0.549, 0.496, 0.484, 0.44 , 0.544, 0.553,\n",
      "       0.548, 0.487, 0.516, 0.454, 0.442, 0.524, 0.416, 0.344, 0.372, 0.405, 0.441, 0.479, 0.633, 0.756, 0.706, 0.636, 0.58 , 0.581, 0.563, 0.476, 0.474, 0.456, 0.598, 0.551, 0.542, 0.532, 0.475, 0.451, 0.393, 0.567, 0.467, 0.318, 0.36 , 0.375, 0.397, 0.53 , 0.679, 0.797, 0.799, 0.742, 0.613,\n",
      "       0.594, 0.57 , 0.463, 0.512, 0.534, 0.555, 0.561, 0.636, 0.571, 0.557, 0.492, 0.42 , 0.5  , 0.451, 0.333, 0.331, 0.411, 0.417, 0.559, 0.672, 0.838, 0.695, 0.695, 0.641, 0.584, 0.566, 0.525, 0.581, 0.596, 0.652, 0.561, 0.589, 0.52 , 0.522, 0.463, 0.417, 0.507, 0.482, 0.369, 0.325, 0.395,\n",
      "       0.425, 0.509, 0.676, 0.75 , 0.674, 0.776, 0.591, 0.535, 0.618, 0.519, 0.527, 0.577, 0.532, 0.559, 0.563, 0.551, 0.553, 0.484, 0.444, 0.534, 0.474, 0.361, 0.349, 0.351, 0.418, 0.612, 0.733, 0.712, 0.662, 0.681, 0.632, 0.539, 0.572, 0.488, 0.543, 0.547, 0.504, 0.542, 0.58 , 0.553, 0.54 ,\n",
      "       0.444, 0.421, 0.552, 0.51 , 0.392, 0.362, 0.377, 0.386, 0.55 , 0.692, 0.84 , 0.819, 0.677, 0.6  , 0.595, 0.581, 0.478, 0.483, 0.461, 0.546, 0.581, 0.556, 0.583, 0.487, 0.436, 0.406, 0.496, 0.438, 0.352, 0.331, 0.366, 0.464, 0.583, 0.721, 0.742, 0.701])>)\n"
     ]
    }
   ],
   "source": [
    "for pat in wn.patterns():  \n",
    "    print(pat)"
   ]
  },
  {
   "cell_type": "code",
   "execution_count": 13,
   "metadata": {},
   "outputs": [],
   "source": [
    "# Replace the initial tank levels with the values stored in the .csv file\n",
    "for i in range(1,8):    \n",
    "    wn.get_node('T' + str(i)).init_level = float(initial_tank_levels.iloc[week_index]['T'+ str(i)])"
   ]
  },
  {
   "cell_type": "code",
   "execution_count": 14,
   "metadata": {},
   "outputs": [
    {
     "data": {
      "text/plain": [
       "T1    5.622006\n",
       "T2    1.373781\n",
       "T3    2.109871\n",
       "T4    3.680605\n",
       "T5    1.466813\n",
       "T6    1.915251\n",
       "T7    4.015033\n",
       "Name: 0, dtype: float64"
      ]
     },
     "execution_count": 14,
     "metadata": {},
     "output_type": "execute_result"
    }
   ],
   "source": [
    "initial_tank_levels.iloc[week_index]"
   ]
  },
  {
   "cell_type": "code",
   "execution_count": 15,
   "metadata": {},
   "outputs": [],
   "source": [
    "wn.write_inpfile('ctown_year_simulation_week_0.inp')"
   ]
  },
  {
   "cell_type": "code",
   "execution_count": 16,
   "metadata": {},
   "outputs": [],
   "source": [
    "# Simulate hydraulics\n",
    "sim = wntr.sim.WNTRSimulator(wn,mode='PDD')"
   ]
  },
  {
   "cell_type": "code",
   "execution_count": 17,
   "metadata": {},
   "outputs": [
    {
     "ename": "TypeError",
     "evalue": "unsupported operand type(s) for /: 'float' and 'NoneType'",
     "output_type": "error",
     "traceback": [
      "\u001b[1;31m---------------------------------------------------------------------------\u001b[0m",
      "\u001b[1;31mTypeError\u001b[0m                                 Traceback (most recent call last)",
      "\u001b[1;32m<ipython-input-17-30dde7b7fdba>\u001b[0m in \u001b[0;36m<module>\u001b[1;34m\u001b[0m\n\u001b[0;32m      2\u001b[0m \u001b[1;31m# Mohammad, using this notebook as base you could change the notebook to run all the 38 weeks. Notice that the variable week_index\u001b[0m\u001b[1;33m\u001b[0m\u001b[1;33m\u001b[0m\u001b[1;33m\u001b[0m\u001b[0m\n\u001b[0;32m      3\u001b[0m \u001b[1;31m# is the one controlling which week is being simulated\u001b[0m\u001b[1;33m\u001b[0m\u001b[1;33m\u001b[0m\u001b[1;33m\u001b[0m\u001b[0m\n\u001b[1;32m----> 4\u001b[1;33m \u001b[0mresults_new\u001b[0m \u001b[1;33m=\u001b[0m \u001b[0msim\u001b[0m\u001b[1;33m.\u001b[0m\u001b[0mrun_sim\u001b[0m\u001b[1;33m(\u001b[0m\u001b[1;33m)\u001b[0m\u001b[1;33m\u001b[0m\u001b[1;33m\u001b[0m\u001b[0m\n\u001b[0m",
      "\u001b[1;32m~\\Anaconda3\\lib\\site-packages\\wntr\\sim\\core.py\u001b[0m in \u001b[0;36mrun_sim\u001b[1;34m(self, solver, backup_solver, solver_options, backup_solver_options, convergence_error, HW_approx, diagnostics)\u001b[0m\n\u001b[0;32m    865\u001b[0m                     \u001b[0mwntr\u001b[0m\u001b[1;33m.\u001b[0m\u001b[0msim\u001b[0m\u001b[1;33m.\u001b[0m\u001b[0mhydraulics\u001b[0m\u001b[1;33m.\u001b[0m\u001b[0mupdate_tank_heads\u001b[0m\u001b[1;33m(\u001b[0m\u001b[0mself\u001b[0m\u001b[1;33m.\u001b[0m\u001b[0m_wn\u001b[0m\u001b[1;33m)\u001b[0m\u001b[1;33m\u001b[0m\u001b[1;33m\u001b[0m\u001b[0m\n\u001b[0;32m    866\u001b[0m                 \u001b[0mtrial\u001b[0m \u001b[1;33m=\u001b[0m \u001b[1;36m0\u001b[0m\u001b[1;33m\u001b[0m\u001b[1;33m\u001b[0m\u001b[0m\n\u001b[1;32m--> 867\u001b[1;33m                 \u001b[0mself\u001b[0m\u001b[1;33m.\u001b[0m\u001b[0m_compute_next_timestep_and_run_presolve_controls_and_rules\u001b[0m\u001b[1;33m(\u001b[0m\u001b[0mfirst_step\u001b[0m\u001b[1;33m)\u001b[0m\u001b[1;33m\u001b[0m\u001b[1;33m\u001b[0m\u001b[0m\n\u001b[0m\u001b[0;32m    868\u001b[0m \u001b[1;33m\u001b[0m\u001b[0m\n\u001b[0;32m    869\u001b[0m             \u001b[0mself\u001b[0m\u001b[1;33m.\u001b[0m\u001b[0m_run_feasibility_controls\u001b[0m\u001b[1;33m(\u001b[0m\u001b[1;33m)\u001b[0m\u001b[1;33m\u001b[0m\u001b[1;33m\u001b[0m\u001b[0m\n",
      "\u001b[1;32m~\\Anaconda3\\lib\\site-packages\\wntr\\sim\\core.py\u001b[0m in \u001b[0;36m_compute_next_timestep_and_run_presolve_controls_and_rules\u001b[1;34m(self, first_step)\u001b[0m\n\u001b[0;32m    628\u001b[0m \u001b[1;33m\u001b[0m\u001b[0m\n\u001b[0;32m    629\u001b[0m         \u001b[1;31m# check which presolve controls need to be activated before the next hydraulic timestep\u001b[0m\u001b[1;33m\u001b[0m\u001b[1;33m\u001b[0m\u001b[1;33m\u001b[0m\u001b[0m\n\u001b[1;32m--> 630\u001b[1;33m         \u001b[0mpresolve_controls_to_run\u001b[0m \u001b[1;33m=\u001b[0m \u001b[0mself\u001b[0m\u001b[1;33m.\u001b[0m\u001b[0m_presolve_controls\u001b[0m\u001b[1;33m.\u001b[0m\u001b[0mcheck\u001b[0m\u001b[1;33m(\u001b[0m\u001b[1;33m)\u001b[0m\u001b[1;33m\u001b[0m\u001b[1;33m\u001b[0m\u001b[0m\n\u001b[0m\u001b[0;32m    631\u001b[0m         \u001b[0mpresolve_controls_to_run\u001b[0m\u001b[1;33m.\u001b[0m\u001b[0msort\u001b[0m\u001b[1;33m(\u001b[0m\u001b[0mkey\u001b[0m\u001b[1;33m=\u001b[0m\u001b[1;32mlambda\u001b[0m \u001b[0mi\u001b[0m\u001b[1;33m:\u001b[0m \u001b[0mi\u001b[0m\u001b[1;33m[\u001b[0m\u001b[1;36m0\u001b[0m\u001b[1;33m]\u001b[0m\u001b[1;33m.\u001b[0m\u001b[0m_priority\u001b[0m\u001b[1;33m)\u001b[0m  \u001b[1;31m# sort them by priority\u001b[0m\u001b[1;33m\u001b[0m\u001b[1;33m\u001b[0m\u001b[0m\n\u001b[0;32m    632\u001b[0m         \u001b[1;31m# now sort them from largest to smallest \"backtrack\"; this way they are in the time-order\u001b[0m\u001b[1;33m\u001b[0m\u001b[1;33m\u001b[0m\u001b[1;33m\u001b[0m\u001b[0m\n",
      "\u001b[1;32m~\\Anaconda3\\lib\\site-packages\\wntr\\network\\controls.py\u001b[0m in \u001b[0;36mcheck\u001b[1;34m(self)\u001b[0m\n\u001b[0;32m   2199\u001b[0m         \u001b[0mcontrols_to_run\u001b[0m \u001b[1;33m=\u001b[0m \u001b[1;33m[\u001b[0m\u001b[1;33m]\u001b[0m\u001b[1;33m\u001b[0m\u001b[1;33m\u001b[0m\u001b[0m\n\u001b[0;32m   2200\u001b[0m         \u001b[1;32mfor\u001b[0m \u001b[0mc\u001b[0m \u001b[1;32min\u001b[0m \u001b[0mself\u001b[0m\u001b[1;33m.\u001b[0m\u001b[0m_controls\u001b[0m\u001b[1;33m:\u001b[0m\u001b[1;33m\u001b[0m\u001b[1;33m\u001b[0m\u001b[0m\n\u001b[1;32m-> 2201\u001b[1;33m             \u001b[0mdo\u001b[0m\u001b[1;33m,\u001b[0m \u001b[0mback\u001b[0m \u001b[1;33m=\u001b[0m \u001b[0mc\u001b[0m\u001b[1;33m.\u001b[0m\u001b[0mis_control_action_required\u001b[0m\u001b[1;33m(\u001b[0m\u001b[1;33m)\u001b[0m\u001b[1;33m\u001b[0m\u001b[1;33m\u001b[0m\u001b[0m\n\u001b[0m\u001b[0;32m   2202\u001b[0m             \u001b[1;32mif\u001b[0m \u001b[0mdo\u001b[0m\u001b[1;33m:\u001b[0m\u001b[1;33m\u001b[0m\u001b[1;33m\u001b[0m\u001b[0m\n\u001b[0;32m   2203\u001b[0m                 \u001b[0mcontrols_to_run\u001b[0m\u001b[1;33m.\u001b[0m\u001b[0mappend\u001b[0m\u001b[1;33m(\u001b[0m\u001b[1;33m(\u001b[0m\u001b[0mc\u001b[0m\u001b[1;33m,\u001b[0m \u001b[0mback\u001b[0m\u001b[1;33m)\u001b[0m\u001b[1;33m)\u001b[0m\u001b[1;33m\u001b[0m\u001b[1;33m\u001b[0m\u001b[0m\n",
      "\u001b[1;32m~\\Anaconda3\\lib\\site-packages\\wntr\\network\\controls.py\u001b[0m in \u001b[0;36mis_control_action_required\u001b[1;34m(self)\u001b[0m\n\u001b[0;32m   1972\u001b[0m \u001b[1;33m\u001b[0m\u001b[0m\n\u001b[0;32m   1973\u001b[0m     \u001b[1;32mdef\u001b[0m \u001b[0mis_control_action_required\u001b[0m\u001b[1;33m(\u001b[0m\u001b[0mself\u001b[0m\u001b[1;33m)\u001b[0m\u001b[1;33m:\u001b[0m\u001b[1;33m\u001b[0m\u001b[1;33m\u001b[0m\u001b[0m\n\u001b[1;32m-> 1974\u001b[1;33m         \u001b[0mdo\u001b[0m \u001b[1;33m=\u001b[0m \u001b[0mself\u001b[0m\u001b[1;33m.\u001b[0m\u001b[0m_condition\u001b[0m\u001b[1;33m.\u001b[0m\u001b[0mevaluate\u001b[0m\u001b[1;33m(\u001b[0m\u001b[1;33m)\u001b[0m\u001b[1;33m\u001b[0m\u001b[1;33m\u001b[0m\u001b[0m\n\u001b[0m\u001b[0;32m   1975\u001b[0m         \u001b[0mback\u001b[0m \u001b[1;33m=\u001b[0m \u001b[0mself\u001b[0m\u001b[1;33m.\u001b[0m\u001b[0m_condition\u001b[0m\u001b[1;33m.\u001b[0m\u001b[0mbacktrack\u001b[0m\u001b[1;33m\u001b[0m\u001b[1;33m\u001b[0m\u001b[0m\n\u001b[0;32m   1976\u001b[0m         \u001b[1;32mif\u001b[0m \u001b[0mdo\u001b[0m\u001b[1;33m:\u001b[0m\u001b[1;33m\u001b[0m\u001b[1;33m\u001b[0m\u001b[0m\n",
      "\u001b[1;32m~\\Anaconda3\\lib\\site-packages\\wntr\\network\\controls.py\u001b[0m in \u001b[0;36mevaluate\u001b[1;34m(self)\u001b[0m\n\u001b[0;32m    799\u001b[0m             \u001b[1;31m# next time. This prevents us from computing very small backtrack values over and over.\u001b[0m\u001b[1;33m\u001b[0m\u001b[1;33m\u001b[0m\u001b[1;33m\u001b[0m\u001b[0m\n\u001b[0;32m    800\u001b[0m             \u001b[1;32mif\u001b[0m \u001b[0mself\u001b[0m\u001b[1;33m.\u001b[0m\u001b[0m_source_obj\u001b[0m\u001b[1;33m.\u001b[0m\u001b[0mdemand\u001b[0m \u001b[1;33m!=\u001b[0m \u001b[1;36m0\u001b[0m\u001b[1;33m:\u001b[0m\u001b[1;33m\u001b[0m\u001b[1;33m\u001b[0m\u001b[0m\n\u001b[1;32m--> 801\u001b[1;33m                 \u001b[0mself\u001b[0m\u001b[1;33m.\u001b[0m\u001b[0m_backtrack\u001b[0m \u001b[1;33m=\u001b[0m \u001b[0mint\u001b[0m\u001b[1;33m(\u001b[0m\u001b[0mmath\u001b[0m\u001b[1;33m.\u001b[0m\u001b[0mfloor\u001b[0m\u001b[1;33m(\u001b[0m\u001b[1;33m(\u001b[0m\u001b[0mcur_value\u001b[0m \u001b[1;33m-\u001b[0m \u001b[0mthresh_value\u001b[0m\u001b[1;33m)\u001b[0m\u001b[1;33m*\u001b[0m\u001b[0mmath\u001b[0m\u001b[1;33m.\u001b[0m\u001b[0mpi\u001b[0m\u001b[1;33m/\u001b[0m\u001b[1;36m4.0\u001b[0m\u001b[1;33m*\u001b[0m\u001b[0mself\u001b[0m\u001b[1;33m.\u001b[0m\u001b[0m_source_obj\u001b[0m\u001b[1;33m.\u001b[0m\u001b[0mdiameter\u001b[0m\u001b[1;33m**\u001b[0m\u001b[1;36m2\u001b[0m\u001b[1;33m/\u001b[0m\u001b[0mself\u001b[0m\u001b[1;33m.\u001b[0m\u001b[0m_source_obj\u001b[0m\u001b[1;33m.\u001b[0m\u001b[0mdemand\u001b[0m\u001b[1;33m)\u001b[0m\u001b[1;33m)\u001b[0m\u001b[1;33m\u001b[0m\u001b[1;33m\u001b[0m\u001b[0m\n\u001b[0m\u001b[0;32m    802\u001b[0m         \u001b[0mself\u001b[0m\u001b[1;33m.\u001b[0m\u001b[0m_last_value\u001b[0m \u001b[1;33m=\u001b[0m \u001b[0mcur_value\u001b[0m  \u001b[1;31m# update the last value\u001b[0m\u001b[1;33m\u001b[0m\u001b[1;33m\u001b[0m\u001b[0m\n\u001b[0;32m    803\u001b[0m         \u001b[1;32mreturn\u001b[0m \u001b[0mbool\u001b[0m\u001b[1;33m(\u001b[0m\u001b[0mstate\u001b[0m\u001b[1;33m)\u001b[0m\u001b[1;33m\u001b[0m\u001b[1;33m\u001b[0m\u001b[0m\n",
      "\u001b[1;31mTypeError\u001b[0m: unsupported operand type(s) for /: 'float' and 'NoneType'"
     ]
    }
   ],
   "source": [
    "# this would run the simulation. \n",
    "# Mohammad, using this notebook as base you could change the notebook to run all the 38 weeks. Notice that the variable week_index \n",
    "# is the one controlling which week is being simulated\n",
    "results_new = sim.run_sim()"
   ]
  },
  {
   "cell_type": "code",
   "execution_count": 15,
   "metadata": {},
   "outputs": [],
   "source": [
    "pressure_results = results_new.node['pressure']\n",
    "pressure_results.to_csv('test_ctown_week_1_wntr.csv')"
   ]
  }
 ],
 "metadata": {
  "kernelspec": {
   "display_name": "Python 3",
   "language": "python",
   "name": "python3"
  },
  "language_info": {
   "codemirror_mode": {
    "name": "ipython",
    "version": 3
   },
   "file_extension": ".py",
   "mimetype": "text/x-python",
   "name": "python",
   "nbconvert_exporter": "python",
   "pygments_lexer": "ipython3",
   "version": "3.7.4"
  }
 },
 "nbformat": 4,
 "nbformat_minor": 2
}
