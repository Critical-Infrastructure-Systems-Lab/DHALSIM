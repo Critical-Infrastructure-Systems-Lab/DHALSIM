{
 "cells": [
  {
   "cell_type": "code",
   "execution_count": 1,
   "metadata": {},
   "outputs": [],
   "source": [
    "# load module\n",
    "import pandas as pd\n",
    "import numpy as np\n",
    "import matplotlib.pyplot as plt\n",
    "%matplotlib inline\n",
    "import wntr\n",
    "import wntr_utils\n",
    "from sklearn.preprocessing import MinMaxScaler\n",
    "from random import shuffle\n",
    "import csv\n",
    "import random"
   ]
  },
  {
   "cell_type": "code",
   "execution_count": 2,
   "metadata": {},
   "outputs": [],
   "source": [
    "week_index = 1\n",
    "total_demands = pd.read_csv('three_year_demands_ctown.csv', index_col=0)\n",
    "demand_starting_points = pd.read_csv('starting_demand_points.csv', index_col=0)\n",
    "initial_tank_levels = pd.read_csv('tank_initial_conditions.csv', index_col=0)\n",
    "network_delays = pd.read_csv('network_links_delay.csv', index_col=0)\n",
    "network_losses = pd.read_csv('network_loss_small.csv', index_col=0)"
   ]
  },
  {
   "cell_type": "code",
   "execution_count": 3,
   "metadata": {},
   "outputs": [
    {
     "name": "stderr",
     "output_type": "stream",
     "text": [
      "C:\\Users\\Azulm\\Anaconda3\\lib\\site-packages\\wntr\\epanet\\io.py:2085: UserWarning: Not all curves were used in \"ctown_map.inp\"; added with type None, units conversion left to user\n",
      "  warnings.warn('Not all curves were used in \"{}\"; added with type None, units conversion left to user'.format(self.wn.name))\n"
     ]
    }
   ],
   "source": [
    "# load EPANET model\n",
    "inp_file = 'ctown_map.inp'\n",
    "wn = wntr.network.WaterNetworkModel(inp_file)"
   ]
  },
  {
   "cell_type": "code",
   "execution_count": 4,
   "metadata": {},
   "outputs": [],
   "source": [
    "week_index = 1-1\n",
    "week_start = demand_starting_points.iloc[week_index][0]"
   ]
  },
  {
   "cell_type": "code",
   "execution_count": 5,
   "metadata": {},
   "outputs": [],
   "source": [
    "week_demands = total_demands.loc[week_start:week_start+239:]"
   ]
  },
  {
   "cell_type": "code",
   "execution_count": 7,
   "metadata": {},
   "outputs": [],
   "source": [
    "# Replace the demand patterns with the random patterns for this week\n",
    "names, patterns =[],[]\n",
    "for name, pat in wn.patterns():  \n",
    "    pat.multipliers = week_demands[name].values.tolist()"
   ]
  },
  {
   "cell_type": "code",
   "execution_count": 10,
   "metadata": {},
   "outputs": [
    {
     "name": "stdout",
     "output_type": "stream",
     "text": [
      "DMA1_pat\n",
      "[0.819 0.633 0.634 0.639 0.538 0.491 0.565 0.555 0.536 0.602 0.567 0.512 0.528 0.519 0.384 0.482 0.426 0.35  0.327 0.394 0.36  0.623 0.691 0.643 0.709 0.676 0.643 0.608 0.566 0.553 0.504 0.538 0.558 0.547 0.559 0.587 0.539 0.466 0.438 0.479 0.486 0.335 0.345 0.337 0.391 0.494 0.703 0.693 0.693\n",
      " 0.738 0.565 0.641 0.599 0.533 0.534 0.536 0.538 0.547 0.566 0.599 0.537 0.48  0.468 0.539 0.42  0.341 0.4   0.367 0.405 0.481 0.625 0.781 0.731 0.7   0.613 0.596 0.633 0.596 0.49  0.494 0.566 0.543 0.514 0.585 0.492 0.502 0.457 0.624 0.475 0.325 0.346 0.339 0.42  0.522 0.643 0.772 0.727 0.723\n",
      " 0.644 0.613 0.575 0.583 0.546 0.556 0.6   0.63  0.553 0.57  0.522 0.465 0.443 0.606 0.473 0.354 0.329 0.366 0.427 0.504 0.702 0.727 0.754 0.723 0.612 0.594 0.554 0.538 0.587 0.508 0.606 0.627 0.542 0.518 0.586 0.427 0.397 0.482 0.438 0.365 0.352 0.348 0.399 0.473 0.661 0.656 0.727 0.686 0.671\n",
      " 0.635 0.514 0.519 0.517 0.542 0.629 0.601 0.556 0.587 0.477 0.487 0.411 0.519 0.567 0.368 0.347 0.363 0.428 0.537 0.64  0.742]\n",
      "DMA2_pat\n",
      "[0.781 0.637 0.608 0.593 0.608 0.545 0.571 0.515 0.553 0.566 0.525 0.58  0.56  0.409 0.396 0.517 0.451 0.343 0.363 0.342 0.402 0.546 0.656 0.746 0.749 0.691 0.763 0.657 0.602 0.523 0.466 0.55  0.584 0.556 0.578 0.599 0.465 0.519 0.48  0.503 0.448 0.377 0.352 0.355 0.412 0.552 0.714 0.804 0.759\n",
      " 0.697 0.562 0.562 0.548 0.52  0.497 0.528 0.588 0.56  0.597 0.569 0.477 0.512 0.444 0.454 0.496 0.351 0.349 0.382 0.383 0.489 0.68  0.755 0.692 0.724 0.693 0.589 0.523 0.528 0.512 0.594 0.558 0.561 0.537 0.524 0.529 0.447 0.445 0.432 0.395 0.336 0.372 0.396 0.475 0.574 0.665 0.818 0.69  0.653\n",
      " 0.602 0.621 0.607 0.537 0.532 0.5   0.567 0.619 0.641 0.529 0.511 0.491 0.44  0.453 0.452 0.349 0.358 0.353 0.476 0.533 0.661 0.711 0.751 0.694 0.625 0.626 0.631 0.534 0.493 0.522 0.555 0.567 0.586 0.622 0.489 0.465 0.436 0.468 0.433 0.363 0.363 0.348 0.438 0.54  0.646 0.719 0.769 0.683 0.608\n",
      " 0.514 0.57  0.511 0.487 0.464 0.479 0.565 0.672 0.568 0.499 0.477 0.436 0.479 0.394 0.342 0.348 0.37  0.462 0.581 0.688 0.77 ]\n",
      "DMA3_pat\n",
      "[0.592 0.659 0.594 0.626 0.567 0.516 0.531 0.476 0.557 0.591 0.52  0.573 0.503 0.444 0.388 0.513 0.433 0.367 0.331 0.346 0.352 0.473 0.618 0.652 0.623 0.71  0.615 0.554 0.535 0.519 0.505 0.519 0.56  0.586 0.579 0.557 0.517 0.441 0.441 0.486 0.474 0.378 0.346 0.377 0.435 0.526 0.703 0.719 0.739\n",
      " 0.705 0.549 0.564 0.582 0.472 0.541 0.539 0.557 0.553 0.571 0.595 0.522 0.459 0.443 0.481 0.398 0.356 0.367 0.349 0.391 0.518 0.613 0.697 0.741 0.649 0.591 0.665 0.647 0.528 0.521 0.477 0.518 0.576 0.522 0.561 0.521 0.467 0.417 0.503 0.438 0.315 0.334 0.389 0.456 0.529 0.592 0.699 0.757 0.711\n",
      " 0.651 0.649 0.559 0.488 0.556 0.535 0.506 0.642 0.575 0.504 0.488 0.436 0.368 0.477 0.423 0.34  0.361 0.361 0.45  0.527 0.647 0.764 0.716 0.714 0.645 0.623 0.592 0.55  0.511 0.466 0.59  0.647 0.473 0.504 0.466 0.458 0.424 0.456 0.443 0.372 0.354 0.396 0.462 0.554 0.692 0.628 0.706 0.667 0.655\n",
      " 0.535 0.512 0.443 0.468 0.54  0.584 0.544 0.493 0.557 0.526 0.472 0.431 0.429 0.458 0.378 0.366 0.335 0.405 0.556 0.646 0.765]\n",
      "DMA4_pat\n",
      "[0.756 0.624 0.601 0.619 0.565 0.472 0.51  0.592 0.507 0.607 0.496 0.521 0.449 0.458 0.464 0.459 0.442 0.351 0.354 0.325 0.432 0.517 0.604 0.637 0.681 0.694 0.659 0.557 0.548 0.498 0.529 0.49  0.527 0.577 0.615 0.589 0.489 0.476 0.427 0.487 0.476 0.361 0.336 0.375 0.41  0.571 0.598 0.726 0.719\n",
      " 0.637 0.613 0.524 0.547 0.515 0.469 0.536 0.577 0.519 0.542 0.547 0.463 0.454 0.454 0.513 0.403 0.334 0.352 0.32  0.398 0.514 0.623 0.763 0.702 0.726 0.591 0.628 0.567 0.543 0.509 0.547 0.57  0.521 0.482 0.513 0.468 0.445 0.382 0.568 0.432 0.36  0.349 0.389 0.431 0.529 0.597 0.654 0.765 0.704\n",
      " 0.644 0.607 0.561 0.513 0.472 0.446 0.511 0.552 0.544 0.525 0.529 0.48  0.43  0.545 0.45  0.338 0.334 0.344 0.387 0.541 0.647 0.671 0.706 0.615 0.583 0.584 0.523 0.479 0.567 0.506 0.592 0.559 0.583 0.622 0.462 0.478 0.432 0.475 0.504 0.349 0.345 0.403 0.395 0.443 0.621 0.58  0.652 0.689 0.58\n",
      " 0.624 0.628 0.57  0.461 0.536 0.643 0.552 0.587 0.506 0.523 0.481 0.434 0.508 0.46  0.344 0.375 0.368 0.368 0.535 0.638 0.692]\n",
      "DMA5_pat\n",
      "[0.729 0.715 0.69  0.56  0.552 0.526 0.469 0.575 0.615 0.551 0.595 0.551 0.525 0.46  0.436 0.542 0.465 0.311 0.336 0.367 0.43  0.53  0.71  0.794 0.812 0.699 0.629 0.557 0.55  0.523 0.485 0.527 0.533 0.557 0.589 0.533 0.545 0.438 0.378 0.457 0.43  0.357 0.339 0.352 0.401 0.468 0.708 0.731 0.751\n",
      " 0.72  0.658 0.578 0.537 0.466 0.52  0.51  0.546 0.569 0.601 0.587 0.526 0.466 0.399 0.546 0.424 0.341 0.347 0.369 0.413 0.446 0.642 0.824 0.711 0.729 0.591 0.706 0.549 0.496 0.484 0.44  0.544 0.553 0.548 0.487 0.516 0.454 0.442 0.524 0.416 0.344 0.372 0.405 0.441 0.479 0.633 0.756 0.706 0.636\n",
      " 0.58  0.581 0.563 0.476 0.474 0.456 0.598 0.551 0.542 0.532 0.475 0.451 0.393 0.567 0.467 0.318 0.36  0.375 0.397 0.53  0.679 0.797 0.799 0.742 0.613 0.594 0.57  0.463 0.512 0.534 0.555 0.561 0.636 0.571 0.557 0.492 0.42  0.5   0.451 0.333 0.331 0.411 0.417 0.559 0.672 0.838 0.695 0.695 0.641\n",
      " 0.584 0.566 0.525 0.581 0.596 0.652 0.561 0.589 0.52  0.522 0.463 0.417 0.507 0.482 0.369 0.325 0.395 0.425 0.509 0.676 0.75 ]\n"
     ]
    }
   ],
   "source": [
    "for name, pat in wn.patterns():  \n",
    "    print(name)\n",
    "    print(pat.multipliers)"
   ]
  },
  {
   "cell_type": "code",
   "execution_count": 8,
   "metadata": {},
   "outputs": [],
   "source": [
    "wn.options.time.duration=len(week_demands.values)*3600"
   ]
  },
  {
   "cell_type": "code",
   "execution_count": 9,
   "metadata": {},
   "outputs": [
    {
     "data": {
      "text/plain": [
       "T1    5.622006\n",
       "T2    1.373781\n",
       "T3    2.109871\n",
       "T4    3.680605\n",
       "T5    1.466813\n",
       "T6    1.915251\n",
       "T7    4.015033\n",
       "Name: 0, dtype: float64"
      ]
     },
     "execution_count": 9,
     "metadata": {},
     "output_type": "execute_result"
    }
   ],
   "source": [
    "initial_tank_levels.iloc[week_index]"
   ]
  },
  {
   "cell_type": "code",
   "execution_count": 10,
   "metadata": {},
   "outputs": [],
   "source": [
    "for i in range(1,8):    \n",
    "    wn.get_node('T' + str(i)).init_level = float(initial_tank_levels.iloc[week_index]['T'+ str(i)])"
   ]
  },
  {
   "cell_type": "code",
   "execution_count": 11,
   "metadata": {},
   "outputs": [
    {
     "name": "stdout",
     "output_type": "stream",
     "text": [
      "5.622006329066112\n",
      "1.3737812430682363\n",
      "2.109871299678028\n",
      "3.68060507829374\n",
      "1.4668132696702183\n",
      "1.9152510119241508\n",
      "4.0150326678503\n"
     ]
    }
   ],
   "source": [
    "for i in range(1,8):    \n",
    "    print(wn.get_node('T' + str(i)).init_level)"
   ]
  },
  {
   "cell_type": "code",
   "execution_count": 16,
   "metadata": {},
   "outputs": [
    {
     "data": {
      "text/plain": [
       "['J511',\n",
       " 'J411',\n",
       " 'J414',\n",
       " 'J415',\n",
       " 'J416',\n",
       " 'J417',\n",
       " 'J418',\n",
       " 'J419',\n",
       " 'J310',\n",
       " 'J311',\n",
       " 'J312',\n",
       " 'J313',\n",
       " 'J314',\n",
       " 'J315',\n",
       " 'J316',\n",
       " 'J318',\n",
       " 'J319',\n",
       " 'J210',\n",
       " 'J211',\n",
       " 'J212',\n",
       " 'J214',\n",
       " 'J217',\n",
       " 'J218',\n",
       " 'J219',\n",
       " 'J110',\n",
       " 'J420',\n",
       " 'J421',\n",
       " 'J422',\n",
       " 'J1153',\n",
       " 'J1154',\n",
       " 'J1155',\n",
       " 'J425',\n",
       " 'J426',\n",
       " 'J1157',\n",
       " 'J427',\n",
       " 'J1158',\n",
       " 'J428',\n",
       " 'J429',\n",
       " 'J320',\n",
       " 'J321',\n",
       " 'J322',\n",
       " 'J324',\n",
       " 'J1056',\n",
       " 'J327',\n",
       " 'J1058',\n",
       " 'J328',\n",
       " 'J329',\n",
       " 'J220',\n",
       " 'J221',\n",
       " 'J225',\n",
       " 'J226',\n",
       " 'J50',\n",
       " 'J51',\n",
       " 'J53',\n",
       " 'J54',\n",
       " 'J128',\n",
       " 'J55',\n",
       " 'J129',\n",
       " 'J56',\n",
       " 'J57',\n",
       " 'J58',\n",
       " 'J59',\n",
       " 'J1160',\n",
       " 'J1161',\n",
       " 'J431',\n",
       " 'J432',\n",
       " 'J433',\n",
       " 'J434',\n",
       " 'J435',\n",
       " 'J436',\n",
       " 'J438',\n",
       " 'J1169',\n",
       " 'J439',\n",
       " 'J330',\n",
       " 'J331',\n",
       " 'J332',\n",
       " 'J333',\n",
       " 'J334',\n",
       " 'J335',\n",
       " 'J336',\n",
       " 'J337',\n",
       " 'J231',\n",
       " 'J232',\n",
       " 'J233',\n",
       " 'J234',\n",
       " 'J236',\n",
       " 'J237',\n",
       " 'J130',\n",
       " 'J131',\n",
       " 'J132',\n",
       " 'J133',\n",
       " 'J60',\n",
       " 'J134',\n",
       " 'J135',\n",
       " 'J62',\n",
       " 'J64',\n",
       " 'J65',\n",
       " 'J66',\n",
       " 'J67',\n",
       " 'J68',\n",
       " 'J69',\n",
       " 'J1170',\n",
       " 'J441',\n",
       " 'J444',\n",
       " 'J341',\n",
       " 'J344',\n",
       " 'J345',\n",
       " 'J347',\n",
       " 'J348',\n",
       " 'J349',\n",
       " 'J241',\n",
       " 'J242',\n",
       " 'J243',\n",
       " 'J244',\n",
       " 'J245',\n",
       " 'J246',\n",
       " 'J247',\n",
       " 'J248',\n",
       " 'J249',\n",
       " 'J142',\n",
       " 'J143',\n",
       " 'J70',\n",
       " 'J144',\n",
       " 'J71',\n",
       " 'J72',\n",
       " 'J73',\n",
       " 'J74',\n",
       " 'J76',\n",
       " 'J77',\n",
       " 'J78',\n",
       " 'J350',\n",
       " 'J351',\n",
       " 'J352',\n",
       " 'J353',\n",
       " 'J354',\n",
       " 'J355',\n",
       " 'J358',\n",
       " 'J359',\n",
       " 'J250',\n",
       " 'J251',\n",
       " 'J252',\n",
       " 'J253',\n",
       " 'J254',\n",
       " 'J257',\n",
       " 'J154',\n",
       " 'J155',\n",
       " 'J82',\n",
       " 'J156',\n",
       " 'J83',\n",
       " 'J84',\n",
       " 'J85',\n",
       " 'J159',\n",
       " 'J86',\n",
       " 'J87',\n",
       " 'J89',\n",
       " 'J360',\n",
       " 'J361',\n",
       " 'J362',\n",
       " 'J363',\n",
       " 'J364',\n",
       " 'J365',\n",
       " 'J366',\n",
       " 'J1208',\n",
       " 'J367',\n",
       " 'J369',\n",
       " 'J160',\n",
       " 'J161',\n",
       " 'J162',\n",
       " 'J163',\n",
       " 'J164',\n",
       " 'J91',\n",
       " 'J165',\n",
       " 'J166',\n",
       " 'J167',\n",
       " 'J94',\n",
       " 'J95',\n",
       " 'J96',\n",
       " 'J97',\n",
       " 'J976',\n",
       " 'J571',\n",
       " 'J572',\n",
       " 'J573',\n",
       " 'J574',\n",
       " 'J575',\n",
       " 'J576',\n",
       " 'J370',\n",
       " 'J371',\n",
       " 'J372',\n",
       " 'J373',\n",
       " 'J374',\n",
       " 'J375',\n",
       " 'J376',\n",
       " 'J377',\n",
       " 'J1219',\n",
       " 'J379',\n",
       " 'J171',\n",
       " 'J172',\n",
       " 'J173',\n",
       " 'J174',\n",
       " 'J175',\n",
       " 'J177',\n",
       " 'J179',\n",
       " 'J580',\n",
       " 'J486',\n",
       " 'J487',\n",
       " 'J488',\n",
       " 'J489',\n",
       " 'J381',\n",
       " 'J1223',\n",
       " 'J382',\n",
       " 'J384',\n",
       " 'J385',\n",
       " 'J180',\n",
       " 'J181',\n",
       " 'J1024',\n",
       " 'J183',\n",
       " 'J1025',\n",
       " 'J186',\n",
       " 'J187',\n",
       " 'J188',\n",
       " 'J189',\n",
       " 'J490',\n",
       " 'J491',\n",
       " 'J492',\n",
       " 'J493',\n",
       " 'J494',\n",
       " 'J495',\n",
       " 'J496',\n",
       " 'J497',\n",
       " 'J498',\n",
       " 'J500',\n",
       " 'J499',\n",
       " 'J501',\n",
       " 'J502',\n",
       " 'J503',\n",
       " 'J504',\n",
       " 'J394',\n",
       " 'J509',\n",
       " 'J399',\n",
       " 'J401',\n",
       " 'J406',\n",
       " 'J295',\n",
       " 'J407',\n",
       " 'J296',\n",
       " 'J408',\n",
       " 'J297',\n",
       " 'J298',\n",
       " 'J191',\n",
       " 'J303',\n",
       " 'J192',\n",
       " 'J193',\n",
       " 'J305',\n",
       " 'J194',\n",
       " 'J195',\n",
       " 'J196',\n",
       " 'J308',\n",
       " 'J198',\n",
       " 'J200',\n",
       " 'J199',\n",
       " 'J201',\n",
       " 'J202',\n",
       " 'J203',\n",
       " 'J204',\n",
       " 'J205',\n",
       " 'J206',\n",
       " 'J207',\n",
       " 'J208',\n",
       " 'J101',\n",
       " 'J102',\n",
       " 'J109',\n",
       " 'J1',\n",
       " 'J2',\n",
       " 'J3',\n",
       " 'J4',\n",
       " 'J5',\n",
       " 'J6',\n",
       " 'J7',\n",
       " 'J8',\n",
       " 'J9',\n",
       " 'J10',\n",
       " 'J11',\n",
       " 'J12',\n",
       " 'J13',\n",
       " 'J14',\n",
       " 'J15',\n",
       " 'J16',\n",
       " 'J17',\n",
       " 'J18',\n",
       " 'J19',\n",
       " 'J20',\n",
       " 'J21',\n",
       " 'J22',\n",
       " 'J23',\n",
       " 'J25',\n",
       " 'J26',\n",
       " 'J27',\n",
       " 'J28',\n",
       " 'J29',\n",
       " 'J30',\n",
       " 'J31',\n",
       " 'J32',\n",
       " 'J33',\n",
       " 'J34',\n",
       " 'J35',\n",
       " 'J36',\n",
       " 'J37',\n",
       " 'J38',\n",
       " 'J24',\n",
       " 'J39',\n",
       " 'J40',\n",
       " 'J123',\n",
       " 'J140',\n",
       " 'J141',\n",
       " 'J157',\n",
       " 'J158',\n",
       " 'J168',\n",
       " 'J170',\n",
       " 'J176',\n",
       " 'J178',\n",
       " 'J184',\n",
       " 'J185',\n",
       " 'J190',\n",
       " 'J197',\n",
       " 'J213',\n",
       " 'J215',\n",
       " 'J216',\n",
       " 'J227',\n",
       " 'J238',\n",
       " 'J239',\n",
       " 'J255',\n",
       " 'J256',\n",
       " 'J258',\n",
       " 'J260',\n",
       " 'J265',\n",
       " 'J266',\n",
       " 'J267',\n",
       " 'J61',\n",
       " 'J92',\n",
       " 'J268',\n",
       " 'J278',\n",
       " 'J281',\n",
       " 'J283',\n",
       " 'J284',\n",
       " 'J136',\n",
       " 'J137',\n",
       " 'J145',\n",
       " 'J118',\n",
       " 'J52',\n",
       " 'J81',\n",
       " 'J88',\n",
       " 'J90',\n",
       " 'J93',\n",
       " 'J147',\n",
       " 'J148',\n",
       " 'J149',\n",
       " 'J150',\n",
       " 'J151',\n",
       " 'J152',\n",
       " 'J153',\n",
       " 'J169',\n",
       " 'J182',\n",
       " 'J222',\n",
       " 'J224',\n",
       " 'J230',\n",
       " 'J235',\n",
       " 'J240',\n",
       " 'J269',\n",
       " 'J273',\n",
       " 'J274',\n",
       " 'J276',\n",
       " 'J280',\n",
       " 'J285',\n",
       " 'J287',\n",
       " 'J288',\n",
       " 'J289',\n",
       " 'J290',\n",
       " 'J291',\n",
       " 'J292',\n",
       " 'J299',\n",
       " 'J300',\n",
       " 'J301',\n",
       " 'J302',\n",
       " 'J304',\n",
       " 'J306',\n",
       " 'J307',\n",
       " 'J309',\n",
       " 'J317',\n",
       " 'J323',\n",
       " 'R1',\n",
       " 'T1',\n",
       " 'T2',\n",
       " 'T3',\n",
       " 'T4',\n",
       " 'T5',\n",
       " 'T6',\n",
       " 'T7']"
      ]
     },
     "execution_count": 16,
     "metadata": {},
     "output_type": "execute_result"
    }
   ],
   "source": [
    "wn.node_name_list"
   ]
  },
  {
   "cell_type": "code",
   "execution_count": 26,
   "metadata": {},
   "outputs": [
    {
     "data": {
      "text/plain": [
       "5.622006329066112"
      ]
     },
     "execution_count": 26,
     "metadata": {},
     "output_type": "execute_result"
    }
   ],
   "source": [
    "wn.get_node('T1').init_level"
   ]
  },
  {
   "cell_type": "code",
   "execution_count": 27,
   "metadata": {},
   "outputs": [
    {
     "data": {
      "text/plain": [
       "<Tank 'T1', elevation=71.5, min_level=0.0, max_level=6.5, diameter=31.3, min_vol=0.0, vol_curve='None'>"
      ]
     },
     "execution_count": 27,
     "metadata": {},
     "output_type": "execute_result"
    }
   ],
   "source": [
    "wn.get_node('T1')"
   ]
  },
  {
   "cell_type": "code",
   "execution_count": 12,
   "metadata": {},
   "outputs": [],
   "source": [
    "# Simulate hydraulics\n",
    "sim = wntr.sim.WNTRSimulator(wn,mode='PDD')"
   ]
  },
  {
   "cell_type": "code",
   "execution_count": 13,
   "metadata": {},
   "outputs": [],
   "source": [
    "results_new = sim.run_sim()"
   ]
  },
  {
   "cell_type": "code",
   "execution_count": 15,
   "metadata": {},
   "outputs": [],
   "source": [
    "pressure_results = results_new.node['pressure']\n",
    "pressure_results.to_csv('test_ctown_week_1_wntr.csv')"
   ]
  },
  {
   "cell_type": "code",
   "execution_count": 28,
   "metadata": {},
   "outputs": [
    {
     "data": {
      "text/plain": [
       "21.208797452631494"
      ]
     },
     "execution_count": 28,
     "metadata": {},
     "output_type": "execute_result"
    }
   ],
   "source": [
    "network_delays.iloc[0]['r1']"
   ]
  },
  {
   "cell_type": "code",
   "execution_count": 27,
   "metadata": {},
   "outputs": [
    {
     "data": {
      "text/plain": [
       "0.2448607788241941"
      ]
     },
     "execution_count": 27,
     "metadata": {},
     "output_type": "execute_result"
    }
   ],
   "source": [
    "network_losses.iloc[0]['r1']"
   ]
  },
  {
   "cell_type": "code",
   "execution_count": 31,
   "metadata": {},
   "outputs": [],
   "source": [
    "def get_node_list_by_type(list, type):\n",
    "    result = []\n",
    "    for node in list:\n",
    "        if wn.get_node(node).node_type == type:\n",
    "            result.append(str(node))\n",
    "    return result"
   ]
  },
  {
   "cell_type": "code",
   "execution_count": 33,
   "metadata": {},
   "outputs": [],
   "source": [
    "def get_link_list_by_type(list, type):\n",
    "    result = []\n",
    "    for link in list:\n",
    "        if wn.get_link(link).link_type == type:\n",
    "            result.append(str(link))\n",
    "    return result"
   ]
  },
  {
   "cell_type": "code",
   "execution_count": 46,
   "metadata": {},
   "outputs": [
    {
     "name": "stdout",
     "output_type": "stream",
     "text": [
      "['T1', 'T2', 'T3', 'T4', 'T5', 'T6', 'T7']\n",
      "['PU1', 'PU2', 'PU3', 'PU4', 'PU5', 'PU6', 'PU7', 'PU8', 'PU9', 'PU10', 'PU11']\n",
      "['v1', 'V45', 'V47', 'V2']\n"
     ]
    }
   ],
   "source": [
    "node_list      = list(wn.node_name_list)\n",
    "link_list = list(wn.link_name_list)\n",
    "tank_list      = get_node_list_by_type(node_list, 'Tank')\n",
    "pump_list      = get_link_list_by_type(link_list, 'Pump')\n",
    "valve_list     = get_link_list_by_type(link_list, 'Valve')\n",
    "\n",
    "print(tank_list)\n",
    "print(pump_list)\n",
    "print(valve_list)"
   ]
  },
  {
   "cell_type": "code",
   "execution_count": 47,
   "metadata": {},
   "outputs": [
    {
     "name": "stdout",
     "output_type": "stream",
     "text": [
      "['T1', 'T2', 'T3', 'T4', 'T5', 'T6', 'T7', 'PU1', 'PU2', 'PU3', 'PU4', 'PU5', 'PU6', 'PU7', 'PU8', 'PU9', 'PU10', 'PU11', 'v1', 'V45', 'V47', 'V2']\n"
     ]
    }
   ],
   "source": [
    "column_list = tank_list.copy()\n",
    "column_list.extend(pump_list)\n",
    "column_list.extend(valve_list)\n",
    "print(column_list)"
   ]
  },
  {
   "cell_type": "code",
   "execution_count": 65,
   "metadata": {},
   "outputs": [
    {
     "data": {
      "text/plain": [
       "<LinkStatus.Closed: 0>"
      ]
     },
     "execution_count": 65,
     "metadata": {},
     "output_type": "execute_result"
    }
   ],
   "source": [
    "wn.get_link('V2').status"
   ]
  },
  {
   "cell_type": "code",
   "execution_count": 67,
   "metadata": {},
   "outputs": [
    {
     "name": "stdout",
     "output_type": "stream",
     "text": [
      "[5.62200632906611, 1.3737812430682368, 2.1098712996780336, 3.680605078293752, 1.4668132696702116, 1.9152510119241555, 4.015032667850306, 0, 1, 0, 0, 0, 0, 0, 0, 0, 0, 0, 2, 2, 2, 0]\n",
      "22\n",
      "22\n"
     ]
    }
   ],
   "source": [
    "values = []\n",
    "for tank in tank_list:\n",
    "    values.append(wn.get_node(tank).level)\n",
    "\n",
    "for pump in pump_list:\n",
    "    if type(wn.get_link(pump).status) is int:\n",
    "        values.append(wn.get_link(pump).status)\n",
    "    else:\n",
    "        values.append(wn.get_link(pump).status.value)\n",
    "\n",
    "for valve in valve_list:\n",
    "    if type(wn.get_link(valve).status) is int:\n",
    "        values.append(wn.get_link(valve).status)\n",
    "    else:\n",
    "        values.append(wn.get_link(valve).status.value)                \n",
    "print(values)        \n",
    "print(len(values))\n",
    "print(len(column_list))"
   ]
  },
  {
   "cell_type": "code",
   "execution_count": 72,
   "metadata": {},
   "outputs": [
    {
     "name": "stdout",
     "output_type": "stream",
     "text": [
      "         T1        T2        T3        T4        T5        T6        T7  PU1  \\\n",
      "0  5.622006  1.373781  2.109871  3.680605  1.466813  1.915251  4.015033  0.0   \n",
      "\n",
      "   PU2  PU3  ...  PU6  PU7  PU8  PU9  PU10  PU11   v1  V45  V47   V2  \n",
      "0  1.0  0.0  ...  0.0  0.0  0.0  0.0   0.0   0.0  2.0  2.0  2.0  0.0  \n",
      "\n",
      "[1 rows x 22 columns]\n"
     ]
    }
   ],
   "source": [
    "last_values = pd.DataFrame(data = values)\n",
    "last_values = last_values.T\n",
    "last_values.columns = column_list\n",
    "print(last_values)\n",
    "last_values.to_csv('last_values_test.csv')"
   ]
  },
  {
   "cell_type": "code",
   "execution_count": 83,
   "metadata": {},
   "outputs": [],
   "source": [
    "loaded_values = pd.read_csv('last_values_test.csv')\n",
    "\n",
    "for tank in tank_list:\n",
    "    wn.get_node(tank).init_level = float(loaded_values.iloc[0][tank])\n",
    "\n",
    "for pump in pump_list:\n",
    "        wn.get_link(pump).status = float(loaded_values.iloc[0][pump])\n",
    "\n",
    "for valve in valve_list:\n",
    "        wn.get_link(valve).status = float(loaded_values.iloc[0][valve])        "
   ]
  }
 ],
 "metadata": {
  "kernelspec": {
   "display_name": "Python 3",
   "language": "python",
   "name": "python3"
  },
  "language_info": {
   "codemirror_mode": {
    "name": "ipython",
    "version": 3
   },
   "file_extension": ".py",
   "mimetype": "text/x-python",
   "name": "python",
   "nbconvert_exporter": "python",
   "pygments_lexer": "ipython3",
   "version": "3.7.4"
  }
 },
 "nbformat": 4,
 "nbformat_minor": 2
}
