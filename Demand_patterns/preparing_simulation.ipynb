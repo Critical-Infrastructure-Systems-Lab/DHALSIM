{
 "cells": [
  {
   "cell_type": "markdown",
   "metadata": {},
   "source": [
    "# C-Town year simulation using weeks\n",
    "\n",
    "This notebook can be used to run a C-Town simulation for 9 months in a \"week-by-week\" (weeks of 10-days) basis\n",
    "The notebook reads from .csv files to define the tank level initial conditions for the week and the demand patterns for that week. \n",
    "The tank initial levels are stored in \"tank_initial_conditions\" and the demand points are defined in \"starting_demand_points\" and \"three_years_demands_ctown\""
   ]
  },
  {
   "cell_type": "code",
   "execution_count": 1,
   "metadata": {},
   "outputs": [],
   "source": [
    "# load module\n",
    "import pandas as pd\n",
    "import numpy as np\n",
    "import matplotlib.pyplot as plt\n",
    "%matplotlib inline\n",
    "import wntr\n",
    "import wntr_utils\n",
    "from sklearn.preprocessing import MinMaxScaler\n",
    "from random import shuffle\n",
    "import csv\n",
    "import random"
   ]
  },
  {
   "cell_type": "code",
   "execution_count": 2,
   "metadata": {},
   "outputs": [],
   "source": [
    "week_index = 1\n",
    "total_demands = pd.read_csv('three_year_demands_ctown.csv', index_col=0)\n",
    "demand_starting_points = pd.read_csv('starting_demand_points.csv', index_col=0)\n",
    "initial_tank_levels = pd.read_csv('tank_initial_conditions.csv', index_col=0)\n",
    "network_delays = pd.read_csv('network_links_delay.csv', index_col=0)\n",
    "network_losses = pd.read_csv('network_loss_small.csv', index_col=0)"
   ]
  },
  {
   "cell_type": "code",
   "execution_count": 3,
   "metadata": {},
   "outputs": [
    {
     "name": "stderr",
     "output_type": "stream",
     "text": [
      "C:\\Users\\Azulm\\Anaconda3\\lib\\site-packages\\wntr\\epanet\\io.py:2085: UserWarning: Not all curves were used in \"ctown_map.inp\"; added with type None, units conversion left to user\n",
      "  warnings.warn('Not all curves were used in \"{}\"; added with type None, units conversion left to user'.format(self.wn.name))\n"
     ]
    }
   ],
   "source": [
    "# load EPANET model\n",
    "inp_file = 'ctown_map.inp'\n",
    "wn = wntr.network.WaterNetworkModel(inp_file)"
   ]
  },
  {
   "cell_type": "code",
   "execution_count": 4,
   "metadata": {},
   "outputs": [],
   "source": [
    "week_index = 1-1\n",
    "week_start = demand_starting_points.iloc[week_index][0]"
   ]
  },
  {
   "cell_type": "code",
   "execution_count": 10,
   "metadata": {},
   "outputs": [],
   "source": [
    "week_demands = total_demands.loc[week_start:week_start+239:]"
   ]
  },
  {
   "cell_type": "code",
   "execution_count": 7,
   "metadata": {},
   "outputs": [],
   "source": [
    "# Replace the demand patterns with the random patterns for this week\n",
    "names, patterns =[],[]\n",
    "for name, pat in wn.patterns():  \n",
    "    pat.multipliers = week_demands[name].values.tolist()"
   ]
  },
  {
   "cell_type": "code",
   "execution_count": 8,
   "metadata": {},
   "outputs": [],
   "source": [
    "wn.options.time.duration=len(week_demands.values)"
   ]
  },
  {
   "cell_type": "code",
   "execution_count": 11,
   "metadata": {},
   "outputs": [
    {
     "data": {
      "text/plain": [
       "T1    5.622006\n",
       "T2    1.373781\n",
       "T3    2.109871\n",
       "T4    3.680605\n",
       "T5    1.466813\n",
       "T6    1.915251\n",
       "T7    4.015033\n",
       "Name: 0, dtype: float64"
      ]
     },
     "execution_count": 11,
     "metadata": {},
     "output_type": "execute_result"
    }
   ],
   "source": [
    "initial_tank_levels.iloc[week_index]"
   ]
  },
  {
   "cell_type": "code",
   "execution_count": 12,
   "metadata": {},
   "outputs": [],
   "source": [
    "# Replace the initial tank levels with the values stored in the .csv file\n",
    "for i in range(1,8):    \n",
    "    wn.get_node('T' + str(i)).init_level = float(initial_tank_levels.iloc[week_index]['T'+ str(i)])"
   ]
  },
  {
   "cell_type": "code",
   "execution_count": 12,
   "metadata": {},
   "outputs": [],
   "source": [
    "# Simulate hydraulics\n",
    "sim = wntr.sim.WNTRSimulator(wn,mode='PDD')"
   ]
  },
  {
   "cell_type": "code",
   "execution_count": 13,
   "metadata": {},
   "outputs": [
    {
     "ename": "NameError",
     "evalue": "name 'sim' is not defined",
     "output_type": "error",
     "traceback": [
      "\u001b[1;31m---------------------------------------------------------------------------\u001b[0m",
      "\u001b[1;31mNameError\u001b[0m                                 Traceback (most recent call last)",
      "\u001b[1;32m<ipython-input-13-30dde7b7fdba>\u001b[0m in \u001b[0;36m<module>\u001b[1;34m\u001b[0m\n\u001b[0;32m      2\u001b[0m \u001b[1;31m# Mohammad, using this notebook as base you could change the notebook to run all the 38 weeks. Notice that the variable week_index\u001b[0m\u001b[1;33m\u001b[0m\u001b[1;33m\u001b[0m\u001b[1;33m\u001b[0m\u001b[0m\n\u001b[0;32m      3\u001b[0m \u001b[1;31m# is the one controlling which week is being simulated\u001b[0m\u001b[1;33m\u001b[0m\u001b[1;33m\u001b[0m\u001b[1;33m\u001b[0m\u001b[0m\n\u001b[1;32m----> 4\u001b[1;33m \u001b[0mresults_new\u001b[0m \u001b[1;33m=\u001b[0m \u001b[0msim\u001b[0m\u001b[1;33m.\u001b[0m\u001b[0mrun_sim\u001b[0m\u001b[1;33m(\u001b[0m\u001b[1;33m)\u001b[0m\u001b[1;33m\u001b[0m\u001b[1;33m\u001b[0m\u001b[0m\n\u001b[0m",
      "\u001b[1;31mNameError\u001b[0m: name 'sim' is not defined"
     ]
    }
   ],
   "source": [
    "# this would run the simulation. \n",
    "# Mohammad, using this notebook as base you could change the notebook to run all the 38 weeks. Notice that the variable week_index \n",
    "# is the one controlling which week is being simulated\n",
    "results_new = sim.run_sim()"
   ]
  },
  {
   "cell_type": "code",
   "execution_count": 15,
   "metadata": {},
   "outputs": [],
   "source": [
    "pressure_results = results_new.node['pressure']\n",
    "pressure_results.to_csv('test_ctown_week_1_wntr.csv')"
   ]
  },
  {
   "cell_type": "code",
   "execution_count": 28,
   "metadata": {},
   "outputs": [
    {
     "data": {
      "text/plain": [
       "21.208797452631494"
      ]
     },
     "execution_count": 28,
     "metadata": {},
     "output_type": "execute_result"
    }
   ],
   "source": [
    "network_delays.iloc[0]['r1']"
   ]
  },
  {
   "cell_type": "code",
   "execution_count": 27,
   "metadata": {},
   "outputs": [
    {
     "data": {
      "text/plain": [
       "0.2448607788241941"
      ]
     },
     "execution_count": 27,
     "metadata": {},
     "output_type": "execute_result"
    }
   ],
   "source": [
    "network_losses.iloc[0]['r1']"
   ]
  },
  {
   "cell_type": "code",
   "execution_count": 31,
   "metadata": {},
   "outputs": [],
   "source": [
    "def get_node_list_by_type(list, type):\n",
    "    result = []\n",
    "    for node in list:\n",
    "        if wn.get_node(node).node_type == type:\n",
    "            result.append(str(node))\n",
    "    return result"
   ]
  },
  {
   "cell_type": "code",
   "execution_count": 33,
   "metadata": {},
   "outputs": [],
   "source": [
    "def get_link_list_by_type(list, type):\n",
    "    result = []\n",
    "    for link in list:\n",
    "        if wn.get_link(link).link_type == type:\n",
    "            result.append(str(link))\n",
    "    return result"
   ]
  },
  {
   "cell_type": "code",
   "execution_count": 46,
   "metadata": {},
   "outputs": [
    {
     "name": "stdout",
     "output_type": "stream",
     "text": [
      "['T1', 'T2', 'T3', 'T4', 'T5', 'T6', 'T7']\n",
      "['PU1', 'PU2', 'PU3', 'PU4', 'PU5', 'PU6', 'PU7', 'PU8', 'PU9', 'PU10', 'PU11']\n",
      "['v1', 'V45', 'V47', 'V2']\n"
     ]
    }
   ],
   "source": [
    "node_list      = list(wn.node_name_list)\n",
    "link_list = list(wn.link_name_list)\n",
    "tank_list      = get_node_list_by_type(node_list, 'Tank')\n",
    "pump_list      = get_link_list_by_type(link_list, 'Pump')\n",
    "valve_list     = get_link_list_by_type(link_list, 'Valve')\n",
    "\n",
    "print(tank_list)\n",
    "print(pump_list)\n",
    "print(valve_list)"
   ]
  },
  {
   "cell_type": "code",
   "execution_count": 47,
   "metadata": {},
   "outputs": [
    {
     "name": "stdout",
     "output_type": "stream",
     "text": [
      "['T1', 'T2', 'T3', 'T4', 'T5', 'T6', 'T7', 'PU1', 'PU2', 'PU3', 'PU4', 'PU5', 'PU6', 'PU7', 'PU8', 'PU9', 'PU10', 'PU11', 'v1', 'V45', 'V47', 'V2']\n"
     ]
    }
   ],
   "source": [
    "column_list = tank_list.copy()\n",
    "column_list.extend(pump_list)\n",
    "column_list.extend(valve_list)\n",
    "print(column_list)"
   ]
  },
  {
   "cell_type": "code",
   "execution_count": 65,
   "metadata": {},
   "outputs": [
    {
     "data": {
      "text/plain": [
       "<LinkStatus.Closed: 0>"
      ]
     },
     "execution_count": 65,
     "metadata": {},
     "output_type": "execute_result"
    }
   ],
   "source": [
    "wn.get_link('V2').status"
   ]
  },
  {
   "cell_type": "code",
   "execution_count": 67,
   "metadata": {},
   "outputs": [
    {
     "name": "stdout",
     "output_type": "stream",
     "text": [
      "[5.62200632906611, 1.3737812430682368, 2.1098712996780336, 3.680605078293752, 1.4668132696702116, 1.9152510119241555, 4.015032667850306, 0, 1, 0, 0, 0, 0, 0, 0, 0, 0, 0, 2, 2, 2, 0]\n",
      "22\n",
      "22\n"
     ]
    }
   ],
   "source": [
    "values = []\n",
    "for tank in tank_list:\n",
    "    values.append(wn.get_node(tank).level)\n",
    "\n",
    "for pump in pump_list:\n",
    "    if type(wn.get_link(pump).status) is int:\n",
    "        values.append(wn.get_link(pump).status)\n",
    "    else:\n",
    "        values.append(wn.get_link(pump).status.value)\n",
    "\n",
    "for valve in valve_list:\n",
    "    if type(wn.get_link(valve).status) is int:\n",
    "        values.append(wn.get_link(valve).status)\n",
    "    else:\n",
    "        values.append(wn.get_link(valve).status.value)                \n",
    "print(values)        \n",
    "print(len(values))\n",
    "print(len(column_list))"
   ]
  },
  {
   "cell_type": "code",
   "execution_count": 72,
   "metadata": {},
   "outputs": [
    {
     "name": "stdout",
     "output_type": "stream",
     "text": [
      "         T1        T2        T3        T4        T5        T6        T7  PU1  \\\n",
      "0  5.622006  1.373781  2.109871  3.680605  1.466813  1.915251  4.015033  0.0   \n",
      "\n",
      "   PU2  PU3  ...  PU6  PU7  PU8  PU9  PU10  PU11   v1  V45  V47   V2  \n",
      "0  1.0  0.0  ...  0.0  0.0  0.0  0.0   0.0   0.0  2.0  2.0  2.0  0.0  \n",
      "\n",
      "[1 rows x 22 columns]\n"
     ]
    }
   ],
   "source": [
    "last_values = pd.DataFrame(data = values)\n",
    "last_values = last_values.T\n",
    "last_values.columns = column_list\n",
    "print(last_values)\n",
    "last_values.to_csv('last_values_test.csv')"
   ]
  },
  {
   "cell_type": "code",
   "execution_count": 83,
   "metadata": {},
   "outputs": [],
   "source": [
    "loaded_values = pd.read_csv('last_values_test.csv')\n",
    "\n",
    "for tank in tank_list:\n",
    "    wn.get_node(tank).init_level = float(loaded_values.iloc[0][tank])\n",
    "\n",
    "for pump in pump_list:\n",
    "        wn.get_link(pump).status = float(loaded_values.iloc[0][pump])\n",
    "\n",
    "for valve in valve_list:\n",
    "        wn.get_link(valve).status = float(loaded_values.iloc[0][valve])        "
   ]
  }
 ],
 "metadata": {
  "kernelspec": {
   "display_name": "Python 3",
   "language": "python",
   "name": "python3"
  },
  "language_info": {
   "codemirror_mode": {
    "name": "ipython",
    "version": 3
   },
   "file_extension": ".py",
   "mimetype": "text/x-python",
   "name": "python",
   "nbconvert_exporter": "python",
   "pygments_lexer": "ipython3",
   "version": "3.7.4"
  }
 },
 "nbformat": 4,
 "nbformat_minor": 2
}
