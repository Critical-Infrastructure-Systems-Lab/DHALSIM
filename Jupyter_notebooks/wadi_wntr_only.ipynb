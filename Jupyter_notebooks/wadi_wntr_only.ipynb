{
 "cells": [
  {
   "cell_type": "code",
   "execution_count": 1,
   "metadata": {},
   "outputs": [],
   "source": [
    "import matplotlib.pyplot as plt\n",
    "import wntr\n",
    "import wntr.network.controls as controls\n",
    "import sqlite3\n",
    "import csv\n",
    "import time\n",
    "import pandas as pd"
   ]
  },
  {
   "cell_type": "code",
   "execution_count": 2,
   "metadata": {},
   "outputs": [],
   "source": [
    "# Create the network\n",
    "inp_file = '../EPANET_topologies/wadi_run_55.inp'\n",
    "wn = wntr.network.WaterNetworkModel(inp_file)\n",
    "\n",
    "# Set option for step-by-step simulation\n",
    "wn.options.time.duration = 840\n",
    "wn.options.time.hydraulic_timestep = 1\n",
    "wn.options.time.pattern_timestep = 1\n",
    "wn.options.time.report_timestep = 1\n",
    "wn.options.time.quality_timestep = 5 \n",
    "\n",
    "list_header = []\n",
    "node_list = list(wn.node_name_list)\n",
    "link_list = list(wn.link_name_list)"
   ]
  },
  {
   "cell_type": "code",
   "execution_count": 9,
   "metadata": {},
   "outputs": [
    {
     "name": "stdout",
     "output_type": "stream",
     "text": [
      "['Timestamps', 'T1_LEVEL', 'T2_LEVEL', 'T0_LEVEL', 'SWaT_LEVEL', 'PUB_LEVEL', 'P_RAW1_FLOW', 'P_RAW1_STATUS', 'P_RAW2_FLOW', 'P_RAW2_STATUS', 'P_B2_FLOW', 'P_B2_STATUS', 'P_B1_FLOW', 'P_B1_STATUS', 'V_Gi_G_FLOW', 'V_Gi_G_STATUS', 'V_Gi_B_FLOW', 'V_Gi_B_STATUS', 'V_SWaT_FLOW', 'V_SWaT_STATUS', 'V_PUB_FLOW', 'V_PUB_STATUS', 'V_ER2i_FLOW', 'V_ER2i_STATUS', 'V_ER2o_FLOW', 'V_ER2o_STATUS', 'V_ER1i_FLOW', 'V_ER1i_STATUS', 'V_ER1o_FLOW', 'V_ER1o_STATUS', 'FCV_ER_FLOW', 'FCV_ER_STATUS', 'FCV_RWin_FLOW', 'FCV_RWin_STATUS']\n"
     ]
    }
   ],
   "source": [
    "reservoir_list = get_node_list_by_type(node_list, 'Reservoir')\n",
    "tank_list      = get_node_list_by_type(node_list, 'Tank')\n",
    "junction_list  = get_node_list_by_type(node_list, 'Junction')\n",
    "pump_list      = get_link_list_by_type(link_list, 'Pump')\n",
    "valve_list     = get_link_list_by_type(link_list, 'Valve')\n",
    "\n",
    "list_header = [\"Timestamps\"]\n",
    "aux = create_node_header(tank_list)\n",
    "list_header.extend(aux)\n",
    "\n",
    "aux = create_node_header(reservoir_list)\n",
    "list_header.extend(aux)\n",
    "\n",
    "aux = create_link_header(pump_list)\n",
    "list_header.extend(aux)\n",
    "\n",
    "aux = create_link_header(valve_list)\n",
    "list_header.extend(aux)\n",
    "\n",
    "dd_results_list = []\n",
    "dd_results_list.append(list_header)\n",
    "\n",
    "print(list_header)"
   ]
  },
  {
   "cell_type": "code",
   "execution_count": 4,
   "metadata": {},
   "outputs": [],
   "source": [
    "def get_node_list_by_type(list, type):\n",
    "    result = []\n",
    "    for node in list:\n",
    "        if wn.get_node(node).node_type == type:\n",
    "            result.append(str(node))\n",
    "    return result"
   ]
  },
  {
   "cell_type": "code",
   "execution_count": 5,
   "metadata": {},
   "outputs": [],
   "source": [
    "def get_link_list_by_type(list, type):\n",
    "    result = []\n",
    "    for link in list:\n",
    "        if wn.get_link(link).link_type == type:\n",
    "            result.append(str(link))\n",
    "    return result"
   ]
  },
  {
   "cell_type": "code",
   "execution_count": 6,
   "metadata": {},
   "outputs": [],
   "source": [
    "def create_node_header(list):\n",
    "    result = []\n",
    "    for node in list:\n",
    "        result.append(node+\"_LEVEL\")\n",
    "    return result"
   ]
  },
  {
   "cell_type": "code",
   "execution_count": 7,
   "metadata": {},
   "outputs": [],
   "source": [
    "def create_link_header(list):\n",
    "    result = []\n",
    "    for link in list:\n",
    "        result.append(link+\"_FLOW\")\n",
    "        result.append(link+\"_STATUS\")\n",
    "    return result"
   ]
  },
  {
   "cell_type": "code",
   "execution_count": 3,
   "metadata": {},
   "outputs": [],
   "source": [
    "#v_pub_condition_initial = controls.SimTimeCondition(wn, '=', '00:00:00')\n",
    "v_pub_condition_open = controls.ValueCondition(wn.get_node(\"T0\"), 'level', '<', 0.3008)\n",
    "v_pub_condition_closed = controls.ValueCondition(wn.get_node(\"T0\"), 'level', '>', 0.576)\n",
    "\n",
    "#v_raw1_condition_initial = controls.SimTimeCondition(wn, '=', '00:00:00')\n",
    "v_raw1_condition_closed_1 = controls.ValueCondition(wn.get_node(\"T0\"), 'level', '<', 0.3008)\n",
    "v_raw1_condition_open = controls.ValueCondition(wn.get_node(\"T2\"), 'level', '<', 0.08)\n",
    "v_raw1_condition_closed_2 = controls.ValueCondition(wn.get_node(\"T2\"), 'level', '>', 0.36)\n",
    "\n",
    "#v_er2i_condition_initial = controls.SimTimeCondition(wn, '=', '00:00:00')\n",
    "v_er2i_condition_closed  = controls.ValueCondition(wn.get_node(\"T2\"), 'level', '>', 0.36)\n",
    "v_er2i_condition_open    = controls.ValueCondition(wn.get_node(\"T2\"), 'level', '<', 0.08)\n",
    "\n",
    "v_pub_open   = controls.ControlAction(wn.get_link('V_PUB'), 'status', 1)\n",
    "v_pub_closed = controls.ControlAction(wn.get_link('V_PUB'), 'status', 0)\n",
    "\n",
    "v_raw1_open   = controls.ControlAction(wn.get_link('P_RAW1'), 'status', 1)\n",
    "v_raw1_closed = controls.ControlAction(wn.get_link('P_RAW1'), 'status', 0)\n",
    "\n",
    "v_er2i_open   = controls.ControlAction(wn.get_link('V_ER2i'), 'status', 1)\n",
    "v_er2i_closed = controls.ControlAction(wn.get_link('V_ER2i'), 'status', 0)\n",
    "\n",
    "v_pub_control_open = controls.Control(v_pub_condition_open, v_pub_open, name='v_pub_control_open')\n",
    "v_pub_control_closed = controls.Control(v_pub_condition_closed, v_pub_closed, name='v_pub_control_closed')\n",
    "\n",
    "v_raw1_control_open = controls.Control(v_raw1_condition_open, v_raw1_open, name='v_raw1_control_open')\n",
    "v_raw1_control_closed_1 = controls.Control(v_raw1_condition_closed_1, v_raw1_closed, name='v_raw1_control_closed_1')\n",
    "v_raw1_control_closed_2 = controls.Control(v_raw1_condition_closed_2, v_raw1_closed, name='v_raw1_control_closed_2')\n",
    "\n",
    "v_er2i_control_open = controls.Control(v_er2i_condition_open, v_er2i_open, name='v_er2i_control_open')\n",
    "v_er2i_control_closed = controls.Control(v_er2i_condition_closed, v_er2i_closed, name='v_er2i_control_closed')"
   ]
  },
  {
   "cell_type": "code",
   "execution_count": 39,
   "metadata": {},
   "outputs": [
    {
     "ename": "IndentationError",
     "evalue": "expected an indented block (<ipython-input-39-fe7c91f922b0>, line 31)",
     "output_type": "error",
     "traceback": [
      "\u001b[1;36m  File \u001b[1;32m\"<ipython-input-39-fe7c91f922b0>\"\u001b[1;36m, line \u001b[1;32m31\u001b[0m\n\u001b[1;33m    values_list.extend([pump1.flow, pump2.flow, pump1.status, pump2.status])\u001b[0m\n\u001b[1;37m              ^\u001b[0m\n\u001b[1;31mIndentationError\u001b[0m\u001b[1;31m:\u001b[0m expected an indented block\n"
     ]
    }
   ],
   "source": [
    "wn.get_link('V_PUB').status = 0\n",
    "wn.get_link('P_RAW1').status = 0\n",
    "wn.get_link('V_ER2i').status = 0\n",
    "\n",
    "sim = wntr.sim.WNTRSimulator(wn) \n",
    "\n",
    "# START STEP BY STEP SIMULATION\n",
    "iteration = 0\n",
    "while iteration <= wn.options.time.duration:\n",
    "    \n",
    "    results_dd = sim.run_sim(convergence_error=True)\n",
    "\n",
    "    # We should generate this automatically\n",
    "    #['Timestamps', 'T1_LEVEL', 'T2_LEVEL', 'T0_LEVEL', 'SWaT_LEVEL', 'PUB_LEVEL', 'P_RAW1_FLOW', 'P_RAW1_STATUS', 'P_RAW2_FLOW',\n",
    "    #'P_RAW2_STATUS', 'P_B2_FLOW', 'P_B2_STATUS', 'P_B1_FLOW', 'P_B1_STATUS', 'V_Gi_G_FLOW', 'V_Gi_G_STATUS', 'V_Gi_B_FLOW', \n",
    "    #'V_Gi_B_STATUS', 'V_SWaT_FLOW', 'V_SWaT_STATUS', 'V_PUB_FLOW', 'V_PUB_STATUS', 'V_ER2i_FLOW', 'V_ER2i_STATUS', \n",
    "    #'V_ER2o_FLOW', 'V_ER2o_STATUS', 'V_ER1i_FLOW', 'V_ER1i_STATUS', 'V_ER1o_FLOW', 'V_ER1o_STATUS', 'FCV_ER_FLOW', \n",
    "    #'FCV_ER_STATUS', 'FCV_RWin_FLOW', 'FCV_RWin_STATUS']\n",
    "    \n",
    "    values_list = []\n",
    "    \n",
    "    values_list.extend([results_dd.timestamp, wn.get_node(\"T0\").level, wn.get_node(\"T1\").level, wn.get_node(\"T2\").level, \n",
    "                        wn.get_node(\"R_SWaT\").level, wn.get_node(\"R_PUB\").level])\n",
    "    \n",
    "    for junction in junction_list:\n",
    "        values_list.extend([wn.get_node(junction).head - wn.get_node(junction).elevation])\n",
    "\n",
    "    for pipe in pipe_list:        \n",
    "    values_list.extend([pump1.flow, pump2.flow, pump1.status, pump2.status])\n",
    "\n",
    "    dd_results_list.append(values_list)    \n",
    "    iteration += 1"
   ]
  },
  {
   "cell_type": "code",
   "execution_count": null,
   "metadata": {},
   "outputs": [],
   "source": []
  }
 ],
 "metadata": {
  "kernelspec": {
   "display_name": "Python 3",
   "language": "python",
   "name": "python3"
  },
  "language_info": {
   "codemirror_mode": {
    "name": "ipython",
    "version": 3
   },
   "file_extension": ".py",
   "mimetype": "text/x-python",
   "name": "python",
   "nbconvert_exporter": "python",
   "pygments_lexer": "ipython3",
   "version": "3.7.3"
  }
 },
 "nbformat": 4,
 "nbformat_minor": 2
}
