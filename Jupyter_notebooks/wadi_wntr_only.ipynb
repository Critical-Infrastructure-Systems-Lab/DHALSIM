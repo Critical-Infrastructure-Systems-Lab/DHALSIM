{
 "cells": [
  {
   "cell_type": "code",
   "execution_count": 1,
   "metadata": {},
   "outputs": [],
   "source": [
    "import matplotlib.pyplot as plt\n",
    "import wntr\n",
    "import wntr.network.controls as controls\n",
    "import sqlite3\n",
    "import csv\n",
    "import time\n",
    "import pandas as pd"
   ]
  },
  {
   "cell_type": "code",
   "execution_count": 5,
   "metadata": {},
   "outputs": [],
   "source": [
    "# Create the network\n",
    "inp_file = '../EPANET_topologies/wadi_run_55.inp'\n",
    "wn = wntr.network.WaterNetworkModel(inp_file)\n",
    "\n",
    "# Set option for step-by-step simulation\n",
    "wn.options.time.duration = 840\n",
    "wn.options.time.hydraulic_timestep = 1\n",
    "wn.options.time.pattern_timestep = 1\n",
    "wn.options.time.report_timestep = 1\n",
    "wn.options.time.quality_timestep = 5 \n",
    "\n",
    "dd_results_list = []\n",
    "list_header = []\n",
    "\n",
    "node_list = list(wn.node_name_list)\n",
    "junction_list = []\n",
    "for node in node_list:\n",
    "    if wn.get_node(node).node_type == 'Junction':\n",
    "        junction_list.append(str(node))\n",
    "\n",
    "list_header = [\"timestamps\", \"T0_LEVEL\", \"T1_LEVEL\", \"T2_LEVEL\", \"R_SWaT__LEVEL\", \"R_PUB_LEVEL\"]\n",
    "\n",
    "list_header.extend(junction_list)\n",
    "pump_list = [\"FLOW_P_RAW1\", \"STATUS_P_RAW1\", \"FLOW_P_RAW2\", \"STATUS_P_RAW1\", \"FLOW_PB1\", \"STATUS_PB1\", \"FLOW_PB2\", \"STATUS_PB2\"]\n",
    "list_header.extend(pump_list)\n",
    "\n",
    "valve_list = [\"FLOW_V_Gi_G\", \"STATUS_V_Gi_G\", \"FLOW_V_Gi_B\", \"STATUS_V_Gi_B\", \"FLOW_V_SWaT\", \"STATUS_V_SWaT\" , \"FLOW_V_PUB\",\n",
    "              \"STATUS_V_PUB\",\"FLOW_V_ER2i\"  , \"STATUS_V_ER2i\" , \"FLOW_V_ER2o\" , \"STATUS_V_ER2o\", \n",
    "              \"FLOW_V_ER1i\", \"STATUS_V_ER1i\" , \"FLOW_V_ER1o\", \"STATUS_V_ER1o\" , \"FLOW_FCV_ER\", \"STATUS_FCV_ER\"\n",
    "              \"FLOW_FCV_RWin\", \"STATUS_FCV_RWin\"]\n",
    "\n",
    "list_header.extend(valve_list)\n",
    "\n",
    "dd_results_list.append(list_header)\n"
   ]
  }
 ],
 "metadata": {
  "kernelspec": {
   "display_name": "Python 3",
   "language": "python",
   "name": "python3"
  },
  "language_info": {
   "codemirror_mode": {
    "name": "ipython",
    "version": 3
   },
   "file_extension": ".py",
   "mimetype": "text/x-python",
   "name": "python",
   "nbconvert_exporter": "python",
   "pygments_lexer": "ipython3",
   "version": "3.7.4"
  }
 },
 "nbformat": 4,
 "nbformat_minor": 2
}
