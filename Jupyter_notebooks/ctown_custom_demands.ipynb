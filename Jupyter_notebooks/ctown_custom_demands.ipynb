{
 "cells": [
  {
   "cell_type": "code",
   "execution_count": 1,
   "metadata": {},
   "outputs": [],
   "source": [
    "import wntr\n",
    "import wntr.network.controls as controls\n",
    "import csv\n",
    "import pandas as pd\n",
    "import yaml\n",
    "import matplotlib.pyplot as plt\n",
    "import numpy as np"
   ]
  },
  {
   "cell_type": "code",
   "execution_count": 2,
   "metadata": {},
   "outputs": [],
   "source": [
    "########## Simulation parameters ##########\n",
    "file_path = \"ctown_map_with_controls.inp\"\n",
    "wntr_simulation = False\n",
    "simulation_days = 10\n",
    "\n",
    "wntr_node_results_path =  \"ctown_wntr_node_results.csv\"\n",
    "wntr_results_results_path = \"ctown_wntr_results_results.csv\"\n",
    "\n",
    "epanet_node_results_path =  \"ctown_epanet_node_results.csv\"\n",
    "epanet_results_results_path = \"ctown_epanet_results_results.csv\"\n",
    "\n",
    "if wntr_simulation == True:\n",
    "    output_node_path = wntr_node_results_path\n",
    "    output_results_path = wntr_results_results_path\n",
    "else:\n",
    "    output_node_path = epanet_node_results_path\n",
    "    output_results_path = epanet_results_results_path"
   ]
  },
  {
   "cell_type": "code",
   "execution_count": 3,
   "metadata": {},
   "outputs": [
    {
     "name": "stderr",
     "output_type": "stream",
     "text": [
      "C:\\ProgramData\\Anaconda3\\lib\\site-packages\\wntr\\epanet\\io.py:2085: UserWarning:\n",
      "\n",
      "Not all curves were used in \"ctown_map_with_controls.inp\"; added with type None, units conversion left to user\n",
      "\n"
     ]
    }
   ],
   "source": [
    "######################################## init ####################################\n",
    "inp_file = file_path\n",
    "wn = wntr.network.WaterNetworkModel(inp_file)\n",
    "\n",
    "### Demand and tank init levels parameters ######\n",
    "week_index = 0\n",
    "limit = (simulation_days * 24) - 1\n",
    "\n",
    "demand_patterns_path = \"../Demand_patterns/three_year_demands_ctown.csv\"\n",
    "starting_demand_path = \"../Demand_patterns/starting_demand_points.csv\"\n",
    "initial_tank_levels_path = \"../Demand_patterns/tank_initial_conditions.csv\"\n",
    "\n",
    "total_demands = pd.read_csv(demand_patterns_path, index_col=0)\n",
    "demand_starting_points = pd.read_csv(starting_demand_path, index_col=0)\n",
    "initial_tank_levels = pd.read_csv(initial_tank_levels_path, index_col=0)\n",
    "week_start = demand_starting_points.iloc[week_index][0]\n",
    "week_demands = total_demands.loc[week_start:week_start + limit, :]\n",
    "\n",
    "for name, pat in wn.patterns():\n",
    "    pat.multipliers = week_demands[name].values.tolist()\n",
    "\n",
    "for i in range(1, 8):\n",
    "    wn.get_node('T' + str(i)).init_level = \\\n",
    "    float(initial_tank_levels.iloc[week_index]['T' + str(i)])"
   ]
  },
  {
   "cell_type": "code",
   "execution_count": 4,
   "metadata": {
    "scrolled": false
   },
   "outputs": [],
   "source": [
    "################################### Simulation ###################################\n",
    "if wntr_simulation == True:\n",
    "    sim = wntr.sim.WNTRSimulator(wn, mode='PDD')\n",
    "else:\n",
    "    sim = wntr.sim.EpanetSimulator(wn)\n",
    "    \n",
    "if wntr_simulation == True:    \n",
    "    results = sim.run_sim(convergence_error=True)\n",
    "else:\n",
    "    results = sim.run_sim()"
   ]
  },
  {
   "cell_type": "code",
   "execution_count": 5,
   "metadata": {},
   "outputs": [],
   "source": [
    "results.node['pressure'].to_csv(\"ctown_custom_demands.csv\")"
   ]
  }
 ],
 "metadata": {
  "kernelspec": {
   "display_name": "Python 3",
   "language": "python",
   "name": "python3"
  },
  "language_info": {
   "codemirror_mode": {
    "name": "ipython",
    "version": 3
   },
   "file_extension": ".py",
   "mimetype": "text/x-python",
   "name": "python",
   "nbconvert_exporter": "python",
   "pygments_lexer": "ipython3",
   "version": "3.7.4"
  }
 },
 "nbformat": 4,
 "nbformat_minor": 2
}
