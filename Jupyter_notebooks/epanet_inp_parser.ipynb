{
 "cells": [
  {
   "cell_type": "code",
   "execution_count": 1,
   "metadata": {},
   "outputs": [],
   "source": [
    "import wntr\n",
    "import wntr.network.controls as controls"
   ]
  },
  {
   "cell_type": "code",
   "execution_count": 3,
   "metadata": {},
   "outputs": [
    {
     "name": "stderr",
     "output_type": "stream",
     "text": [
      "C:\\ProgramData\\Anaconda3\\lib\\site-packages\\wntr\\epanet\\io.py:2085: UserWarning:\n",
      "\n",
      "Not all curves were used in \"../Demand_patterns/ctown_map_with_controls.inp\"; added with type None, units conversion left to user\n",
      "\n"
     ]
    }
   ],
   "source": [
    "inp_file_path = \"../Demand_patterns/ctown_map_with_controls.inp\"\n",
    "wn = wntr.network.WaterNetworkModel(inp_file_path)"
   ]
  },
  {
   "cell_type": "code",
   "execution_count": 121,
   "metadata": {},
   "outputs": [
    {
     "name": "stdout",
     "output_type": "stream",
     "text": [
      "{'tank_tag': 'T1', 'operator': '<=', 'value': '4.0', 'actuator_tag': 'PU1', 'actuator_value': 'Open'}\n",
      "{'tank_tag': 'T1', 'operator': '>=', 'value': '6.3', 'actuator_tag': 'PU1', 'actuator_value': 'Closed'}\n",
      "{'tank_tag': 'T1', 'operator': '<=', 'value': '1.0', 'actuator_tag': 'PU2', 'actuator_value': 'Open'}\n",
      "{'tank_tag': 'T1', 'operator': '>=', 'value': '4.5', 'actuator_tag': 'PU2', 'actuator_value': 'Closed'}\n",
      "{'tank_tag': 'T2', 'operator': '<=', 'value': '0.5', 'actuator_tag': 'V2', 'actuator_value': 'Open'}\n",
      "{'tank_tag': 'T2', 'operator': '>=', 'value': '5.5', 'actuator_tag': 'V2', 'actuator_value': 'Closed'}\n",
      "{'tank_tag': 'T3', 'operator': '<=', 'value': '3.0', 'actuator_tag': 'PU4', 'actuator_value': 'Open'}\n",
      "{'tank_tag': 'T3', 'operator': '>=', 'value': '5.3', 'actuator_tag': 'PU4', 'actuator_value': 'Closed'}\n",
      "{'tank_tag': 'T3', 'operator': '<=', 'value': '1.0', 'actuator_tag': 'PU5', 'actuator_value': 'Open'}\n",
      "{'tank_tag': 'T3', 'operator': '>=', 'value': '3.5', 'actuator_tag': 'PU5', 'actuator_value': 'Closed'}\n",
      "{'tank_tag': 'T4', 'operator': '<=', 'value': '2.0', 'actuator_tag': 'PU6', 'actuator_value': 'Open'}\n",
      "{'tank_tag': 'T4', 'operator': '>=', 'value': '3.5', 'actuator_tag': 'PU6', 'actuator_value': 'Closed'}\n",
      "{'tank_tag': 'T4', 'operator': '<=', 'value': '3.0', 'actuator_tag': 'PU7', 'actuator_value': 'Open'}\n",
      "{'tank_tag': 'T4', 'operator': '>=', 'value': '4.5', 'actuator_tag': 'PU7', 'actuator_value': 'Closed'}\n",
      "{'tank_tag': 'T5', 'operator': '<=', 'value': '1.5', 'actuator_tag': 'PU8', 'actuator_value': 'Open'}\n",
      "{'tank_tag': 'T5', 'operator': '>=', 'value': '4.5', 'actuator_tag': 'PU8', 'actuator_value': 'Closed'}\n",
      "{'tank_tag': 'T7', 'operator': '<=', 'value': '2.5', 'actuator_tag': 'PU10', 'actuator_value': 'Open'}\n",
      "{'tank_tag': 'T7', 'operator': '>=', 'value': '4.8', 'actuator_tag': 'PU10', 'actuator_value': 'Closed'}\n",
      "{'tank_tag': 'T7', 'operator': '<=', 'value': '1.0', 'actuator_tag': 'PU11', 'actuator_value': 'Open'}\n",
      "{'tank_tag': 'T7', 'operator': '>=', 'value': '3.0', 'actuator_tag': 'PU11', 'actuator_value': 'Closed'}\n"
     ]
    }
   ],
   "source": [
    "control_list = []\n",
    "control_dict = {}\n",
    "for control in wn.controls():\n",
    "    control_dict['tank_tag'] = control[1].condition.name.split(\":\")[0]\n",
    "    control_dict['operator'] = control[1].condition.name.split(\"level\")[1][0:2]\n",
    "    control_dict['value'] = control[1].condition.name.split(\"=\")[1]\n",
    "    control_dict['actuator_tag'] = str(control[1].actions()[0].target()[0])\n",
    "    control_dict['actuator_value'] =str(control[1].actions()[0]).split(\"to\")[1].strip()\n",
    "    control_list.append(control_dict)"
   ]
  },
  {
   "cell_type": "code",
   "execution_count": 122,
   "metadata": {},
   "outputs": [],
   "source": [
    "cpa_file_path = \"../Demand_patterns/ctown.cpa\""
   ]
  }
 ],
 "metadata": {
  "kernelspec": {
   "display_name": "Python 3",
   "language": "python",
   "name": "python3"
  },
  "language_info": {
   "codemirror_mode": {
    "name": "ipython",
    "version": 3
   },
   "file_extension": ".py",
   "mimetype": "text/x-python",
   "name": "python",
   "nbconvert_exporter": "python",
   "pygments_lexer": "ipython3",
   "version": "3.7.4"
  }
 },
 "nbformat": 4,
 "nbformat_minor": 2
}
