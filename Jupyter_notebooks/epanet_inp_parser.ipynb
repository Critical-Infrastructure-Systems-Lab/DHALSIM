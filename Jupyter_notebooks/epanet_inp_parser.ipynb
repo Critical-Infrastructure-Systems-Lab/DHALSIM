{
 "cells": [
  {
   "cell_type": "code",
   "execution_count": 1,
   "metadata": {},
   "outputs": [],
   "source": [
    "import wntr\n",
    "import wntr.network.controls as controls\n",
    "import re"
   ]
  },
  {
   "cell_type": "code",
   "execution_count": 2,
   "metadata": {},
   "outputs": [
    {
     "name": "stderr",
     "output_type": "stream",
     "text": [
      "C:\\ProgramData\\Anaconda3\\lib\\site-packages\\wntr\\epanet\\io.py:2085: UserWarning:\n",
      "\n",
      "Not all curves were used in \"../Demand_patterns/ctown_map_with_controls.inp\"; added with type None, units conversion left to user\n",
      "\n"
     ]
    }
   ],
   "source": [
    "inp_file_path = \"../Demand_patterns/ctown_map_with_controls.inp\"\n",
    "wn = wntr.network.WaterNetworkModel(inp_file_path)\n",
    "cpa_file_path = \"../Demand_patterns/ctown.cpa\""
   ]
  },
  {
   "cell_type": "code",
   "execution_count": 3,
   "metadata": {},
   "outputs": [],
   "source": [
    "def get_plc_with_tag(a_tag):\n",
    "    for plc in plcs:\n",
    "        if a_tag in plc['Sensors']:\n",
    "            return plc\n",
    "        if a_tag in plc['Actuators']:\n",
    "            return plc"
   ]
  },
  {
   "cell_type": "code",
   "execution_count": 4,
   "metadata": {},
   "outputs": [],
   "source": [
    "def get_control_rule_with_tag(a_tag):\n",
    "    for control in control_list:\n",
    "        if a_tag in control['actuator_tag']:\n",
    "            return control"
   ]
  },
  {
   "cell_type": "code",
   "execution_count": 5,
   "metadata": {
    "scrolled": false
   },
   "outputs": [],
   "source": [
    "def create_control_list():\n",
    "    control_list = []\n",
    "    for control in wn.controls():\n",
    "        control_dict = {}\n",
    "        control_dict['tank_tag'] = control[1].condition.name.split(\":\")[0]\n",
    "        control_dict['operator'] = control[1].condition.name.split(\"level\")[1][0:2]\n",
    "        control_dict['value'] = control[1].condition.name.split(\"=\")[1]\n",
    "        control_dict['actuator_tag'] = str(control[1].actions()[0].target()[0])\n",
    "        control_dict['actuator_value'] = str(control[1].actions()[0]).split(\"to\")[1].strip()    \n",
    "        control_list.append(control_dict)                     \n",
    "    return control_list"
   ]
  },
  {
   "cell_type": "code",
   "execution_count": 6,
   "metadata": {},
   "outputs": [],
   "source": [
    "def create_plc_list():\n",
    "    section_exp = re.compile(r'\\[(.*)\\]')\n",
    "    plc_exp = re.compile(r'^PLC')\n",
    "    plcs = []\n",
    "    nodes_section = False\n",
    "    with open(cpa_file_path, 'r') as file_object:\n",
    "            for line in file_object:\n",
    "                if section_exp.match(line) and line == '[CYBERNODES]\\n':\n",
    "                    nodes_section=True\n",
    "                    continue\n",
    "                if section_exp.match(line) and line != '[CYBERNODES]\\n':                \n",
    "                    nodes_section=False\n",
    "                if nodes_section and line[0] != \";\":                \n",
    "                    nodes=line.split(\",\")\n",
    "                    if plc_exp.match(nodes[0].strip()):\n",
    "                        plc_dict = {}\n",
    "                        plc_dict['PLC'] = nodes[0].strip()\n",
    "                        plc_dict['Sensors'] = nodes[1].strip().split(\" \")\n",
    "                        plc_dict['Actuators'] = nodes[2].strip().split(\" \")[:-1]\n",
    "                        plc_dict['Controls'] = []\n",
    "                        plcs.append(plc_dict)                                                  \n",
    "    return plcs"
   ]
  },
  {
   "cell_type": "code",
   "execution_count": 7,
   "metadata": {},
   "outputs": [],
   "source": [
    "def set_control_list_in_plc(a_plc_dict, a_control_list):\n",
    "    plc_controls = []\n",
    "    for actuator in a_plc_dict['Actuators']:\n",
    "        for control in a_control_list:\n",
    "            control['actuator_tag']\n",
    "            if actuator == control['actuator_tag']:\n",
    "                plc_controls.append(control)                \n",
    "    a_plc_dict['Controls'] = plc_controls \n",
    "    return a_plc_dict "
   ]
  },
  {
   "cell_type": "code",
   "execution_count": 8,
   "metadata": {},
   "outputs": [],
   "source": [
    "def set_dependencies_list_in_plc(a_plc_list, a_control_list):\n",
    "    for plc in a_plc_list:\n",
    "        dependencies_list = []        \n",
    "        tag_set = set()        \n",
    "        for control in plc['Controls']:\n",
    "            tag_set.add(control['tank_tag'])\n",
    "        if tag_set:            \n",
    "            for tag in tag_set:\n",
    "                for target_plc in a_plc_list:                    \n",
    "                    for sensor in target_plc['Sensors']:                        \n",
    "                        if tag == sensor:\n",
    "                            dependency_dict = {}\n",
    "                            dependency_dict['tag'] = tag\n",
    "                            dependency_dict['PLC'] = target_plc['PLC']\n",
    "                            dependencies_list.append(dependency_dict)        \n",
    "        plc['Dependencies'] = dependencies_list                "
   ]
  },
  {
   "cell_type": "code",
   "execution_count": 9,
   "metadata": {
    "scrolled": false
   },
   "outputs": [
    {
     "name": "stdout",
     "output_type": "stream",
     "text": [
      "{'PLC': 'PLC1', 'Sensors': [''], 'Actuators': ['PU1', 'PU2'], 'Controls': [{'tank_tag': 'T1', 'operator': '<=', 'value': '4.0', 'actuator_tag': 'PU1', 'actuator_value': 'Open'}, {'tank_tag': 'T1', 'operator': '>=', 'value': '6.3', 'actuator_tag': 'PU1', 'actuator_value': 'Closed'}, {'tank_tag': 'T1', 'operator': '<=', 'value': '1.0', 'actuator_tag': 'PU2', 'actuator_value': 'Open'}, {'tank_tag': 'T1', 'operator': '>=', 'value': '4.5', 'actuator_tag': 'PU2', 'actuator_value': 'Closed'}], 'Dependencies': [{'tag': 'T1', 'PLC': 'PLC2'}]}\n",
      "\n",
      "\n",
      "{'PLC': 'PLC2', 'Sensors': ['T1'], 'Actuators': [], 'Controls': [], 'Dependencies': []}\n",
      "\n",
      "\n",
      "{'PLC': 'PLC3', 'Sensors': ['T2'], 'Actuators': ['PU4', 'PU5', 'PU6', 'PU7'], 'Controls': [{'tank_tag': 'T3', 'operator': '<=', 'value': '3.0', 'actuator_tag': 'PU4', 'actuator_value': 'Open'}, {'tank_tag': 'T3', 'operator': '>=', 'value': '5.3', 'actuator_tag': 'PU4', 'actuator_value': 'Closed'}, {'tank_tag': 'T3', 'operator': '<=', 'value': '1.0', 'actuator_tag': 'PU5', 'actuator_value': 'Open'}, {'tank_tag': 'T3', 'operator': '>=', 'value': '3.5', 'actuator_tag': 'PU5', 'actuator_value': 'Closed'}, {'tank_tag': 'T4', 'operator': '<=', 'value': '2.0', 'actuator_tag': 'PU6', 'actuator_value': 'Open'}, {'tank_tag': 'T4', 'operator': '>=', 'value': '3.5', 'actuator_tag': 'PU6', 'actuator_value': 'Closed'}, {'tank_tag': 'T4', 'operator': '<=', 'value': '3.0', 'actuator_tag': 'PU7', 'actuator_value': 'Open'}, {'tank_tag': 'T4', 'operator': '>=', 'value': '4.5', 'actuator_tag': 'PU7', 'actuator_value': 'Closed'}], 'Dependencies': [{'tag': 'T3', 'PLC': 'PLC4'}, {'tag': 'T4', 'PLC': 'PLC6'}]}\n",
      "\n",
      "\n",
      "{'PLC': 'PLC4', 'Sensors': ['T3'], 'Actuators': [], 'Controls': [], 'Dependencies': []}\n",
      "\n",
      "\n",
      "{'PLC': 'PLC5', 'Sensors': [''], 'Actuators': ['PU8', 'PU9', 'PU10'], 'Controls': [{'tank_tag': 'T5', 'operator': '<=', 'value': '1.5', 'actuator_tag': 'PU8', 'actuator_value': 'Open'}, {'tank_tag': 'T5', 'operator': '>=', 'value': '4.5', 'actuator_tag': 'PU8', 'actuator_value': 'Closed'}, {'tank_tag': 'T7', 'operator': '<=', 'value': '2.5', 'actuator_tag': 'PU10', 'actuator_value': 'Open'}, {'tank_tag': 'T7', 'operator': '>=', 'value': '4.8', 'actuator_tag': 'PU10', 'actuator_value': 'Closed'}], 'Dependencies': [{'tag': 'T7', 'PLC': 'PLC9'}, {'tag': 'T5', 'PLC': 'PLC7'}]}\n",
      "\n",
      "\n",
      "{'PLC': 'PLC6', 'Sensors': ['T4'], 'Actuators': [], 'Controls': [], 'Dependencies': []}\n",
      "\n",
      "\n",
      "{'PLC': 'PLC7', 'Sensors': ['T5'], 'Actuators': [], 'Controls': [], 'Dependencies': []}\n",
      "\n",
      "\n",
      "{'PLC': 'PLC8', 'Sensors': ['T6'], 'Actuators': [], 'Controls': [], 'Dependencies': []}\n",
      "\n",
      "\n",
      "{'PLC': 'PLC9', 'Sensors': ['T7'], 'Actuators': [], 'Controls': [], 'Dependencies': []}\n",
      "\n",
      "\n"
     ]
    }
   ],
   "source": [
    "control_list = create_control_list()\n",
    "plc_list = create_plc_list()\n",
    "\n",
    "for i in range(len(plc_list)):\n",
    "    plc_list[i] = set_control_list_in_plc(plc_list[i], control_list)\n",
    "\n",
    "set_dependencies_list_in_plc(plc_list, control_list)\n",
    "    \n",
    "for plc in plc_list:\n",
    "    print(plc)\n",
    "    print(\"\\n\")"
   ]
  },
  {
   "cell_type": "code",
   "execution_count": null,
   "metadata": {},
   "outputs": [],
   "source": []
  }
 ],
 "metadata": {
  "kernelspec": {
   "display_name": "Python 3",
   "language": "python",
   "name": "python3"
  },
  "language_info": {
   "codemirror_mode": {
    "name": "ipython",
    "version": 3
   },
   "file_extension": ".py",
   "mimetype": "text/x-python",
   "name": "python",
   "nbconvert_exporter": "python",
   "pygments_lexer": "ipython3",
   "version": "3.7.4"
  }
 },
 "nbformat": 4,
 "nbformat_minor": 2
}
