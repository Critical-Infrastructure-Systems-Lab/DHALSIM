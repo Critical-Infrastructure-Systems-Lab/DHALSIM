{
 "cells": [
  {
   "cell_type": "code",
   "execution_count": 28,
   "metadata": {},
   "outputs": [],
   "source": [
    "import matplotlib.pyplot as plt\n",
    "import wntr\n",
    "import wntr.network.controls as controls\n",
    "import sqlite3\n",
    "import csv\n",
    "import time\n",
    "import pandas as pd\n",
    "from platform import python_version"
   ]
  },
  {
   "cell_type": "code",
   "execution_count": 30,
   "metadata": {},
   "outputs": [],
   "source": [
    "def get_node_list_by_type(list, type):\n",
    "    result = []\n",
    "    for node in list:\n",
    "        if wn.get_node(node).node_type == type:\n",
    "            result.append(str(node))\n",
    "    return result\n",
    "\n",
    "def get_link_list_by_type(list, type):\n",
    "    result = []\n",
    "    for link in list:\n",
    "        if wn.get_link(link).link_type == type:\n",
    "            result.append(str(link))\n",
    "    return result\n",
    "\n",
    "def create_node_header(list):\n",
    "    result = []\n",
    "    for node in list:\n",
    "        result.append(node+\"_LEVEL\")\n",
    "    return result\n",
    "\n",
    "def create_link_header(list):\n",
    "    result = []\n",
    "    for link in list:\n",
    "        result.append(link+\"_FLOW\")\n",
    "        result.append(link+\"_STATUS\")\n",
    "    return result\n",
    "\n",
    "def get_controls(list):\n",
    "    result = []\n",
    "    for control in list:\n",
    "        result.append(wn.get_control(control))\n",
    "    return result\n",
    "\n",
    "def create_control_dict(actuator):\n",
    "    dummy_condition = controls.ValueCondition(wn.get_node('T1'), 'level', '>=', -1)\n",
    "    act_dict = dict.fromkeys(['actuator', 'parameter', 'value', 'condition', 'name'])\n",
    "    act_dict['actuator'] = wn.get_link(actuator)\n",
    "    act_dict['parameter'] = 'status'\n",
    "    act_dict['condition'] = dummy_condition\n",
    "    act_dict['name'] = actuator\n",
    "    if type(wn.get_link(actuator).status) is int:\n",
    "        act_dict['value'] = act_dict['actuator'].status\n",
    "    else:\n",
    "        act_dict['value'] = act_dict['actuator'].status.value\n",
    "    return act_dict\n",
    "    \n",
    "def register_results(results):\n",
    "    values_list = []    \n",
    "    values_list.extend([results.timestamp])\n",
    "    \n",
    "    #Results are divided into: nodes: reservoir and tanks, links: flows and status\n",
    "    # Get tanks levels\n",
    "    for tank in tank_list:\n",
    "            values_list.extend([wn.get_node(tank).level])\n",
    "\n",
    "    # Get pumps flows and status\n",
    "    for pump in pump_list:\n",
    "            values_list.extend([wn.get_link(pump).flow])\n",
    "\n",
    "            if type(wn.get_link(pump).status) is int:\n",
    "                values_list.extend([wn.get_link(pump).status])  # The value is an integer\n",
    "            else:\n",
    "                values_list.extend([wn.get_link(pump).status.value]) # The value is an attribute of status, integer\n",
    "\n",
    "    # Get valves flows and status\n",
    "    for valve in valve_list:\n",
    "            values_list.extend([wn.get_link(valve).flow])\n",
    "\n",
    "            if type(wn.get_link(valve).status) is int:\n",
    "                values_list.extend([wn.get_link(valve).status])\n",
    "            else:\n",
    "                values_list.extend([wn.get_link(valve).status.value]) \n",
    "    return values_list\n",
    "\n",
    "def update_controls():\n",
    "    for control in control_list:\n",
    "        update_control(control)\n",
    "\n",
    "def update_control(control):\n",
    "    act_name = '\\'' + control['name'] + '\\''\n",
    "    rows_1 = c.execute('SELECT value FROM ctown WHERE name = ' + act_name).fetchall()\n",
    "    conn.commit()\n",
    "    new_status = int(rows_1[0][0])\n",
    "\n",
    "    control['value'] = new_status\n",
    "\n",
    "    #act1 = controls.ControlAction(pump1, 'status', int(pump1_status))\n",
    "    new_action  = controls.ControlAction(control['actuator'], control['parameter'], control['value'])\n",
    "\n",
    "    #pump1_control = controls.Control(condition, act1, name='pump1control')\n",
    "    new_control = controls.Control(control['condition'], new_action, name=control['name'])\n",
    "\n",
    "    wn.remove_control(control['name'])\n",
    "    wn.add_control(control['name'], new_control)"
   ]
  },
  {
   "cell_type": "code",
   "execution_count": 31,
   "metadata": {},
   "outputs": [],
   "source": [
    "# Create the network\n",
    "inp_file = 'wadi_map.inp'\n",
    "wn = wntr.network.WaterNetworkModel(inp_file)\n",
    "\n",
    "# Set option for step-by-step simulation\n",
    "wn.options.time.duration = 1\n",
    "\n",
    "list_header = []\n",
    "node_list = list(wn.node_name_list)\n",
    "link_list = list(wn.link_name_list)\n",
    "wntr_only = 1\n",
    "tank_list      = get_node_list_by_type(node_list, 'Tank')\n",
    "pump_list      = get_link_list_by_type(link_list, 'Pump')\n",
    "valve_list     = get_link_list_by_type(link_list, 'Valve')\n",
    "\n",
    "list_header = [\"Timestamps\"]\n",
    "aux = create_node_header(tank_list)\n",
    "list_header.extend(aux)\n",
    "\n",
    "aux = create_link_header(pump_list)\n",
    "list_header.extend(aux)\n",
    "\n",
    "aux = create_link_header(valve_list)\n",
    "list_header.extend(aux)\n",
    "\n",
    "results_list = []\n",
    "results_list.append(list_header)\n",
    "\n",
    "control_list = []\n",
    "for valve in valve_list:\n",
    "    control_list.append(create_control_dict(valve))\n",
    "\n",
    "for pump in pump_list:\n",
    "    control_list.append(create_control_dict(pump))\n",
    "\n",
    "if wntr_only == 1:\n",
    "    for control in control_list:\n",
    "        an_action = controls.ControlAction(control['actuator'], control['parameter'], control['value'])\n",
    "        a_control = controls.Control(control['condition'], an_action, name=control['name'])\n",
    "        wn.add_control(control['name'], a_control)\n"
   ]
  },
  {
   "cell_type": "code",
   "execution_count": 32,
   "metadata": {
    "scrolled": false
   },
   "outputs": [
    {
     "name": "stdout",
     "output_type": "stream",
     "text": [
      "('V_Gi_G', <Control: 'V_Gi_G', <ValueCondition: T1, level, >=, -1.0>, [<ControlAction: V_Gi_G, status, Open>], [], priority=3>)\n",
      "('V_Gi_B', <Control: 'V_Gi_B', <ValueCondition: T1, level, >=, -1.0>, [<ControlAction: V_Gi_B, status, Closed>], [], priority=3>)\n",
      "('V_SWaT', <Control: 'V_SWaT', <ValueCondition: T1, level, >=, -1.0>, [<ControlAction: V_SWaT, status, Closed>], [], priority=3>)\n",
      "('V_PUB', <Control: 'V_PUB', <ValueCondition: T1, level, >=, -1.0>, [<ControlAction: V_PUB, status, Active>], [], priority=3>)\n",
      "('V_ER2i', <Control: 'V_ER2i', <ValueCondition: T1, level, >=, -1.0>, [<ControlAction: V_ER2i, status, Active>], [], priority=3>)\n",
      "('V_ER2o', <Control: 'V_ER2o', <ValueCondition: T1, level, >=, -1.0>, [<ControlAction: V_ER2o, status, Active>], [], priority=3>)\n",
      "('V_ER1i', <Control: 'V_ER1i', <ValueCondition: T1, level, >=, -1.0>, [<ControlAction: V_ER1i, status, Closed>], [], priority=3>)\n",
      "('V_ER1o', <Control: 'V_ER1o', <ValueCondition: T1, level, >=, -1.0>, [<ControlAction: V_ER1o, status, Closed>], [], priority=3>)\n",
      "('FCV_ER', <Control: 'FCV_ER', <ValueCondition: T1, level, >=, -1.0>, [<ControlAction: FCV_ER, status, Active>], [], priority=3>)\n",
      "('FCV_RWin', <Control: 'FCV_RWin', <ValueCondition: T1, level, >=, -1.0>, [<ControlAction: FCV_RWin, status, Active>], [], priority=3>)\n",
      "('P_RAW1', <Control: 'P_RAW1', <ValueCondition: T1, level, >=, -1.0>, [<ControlAction: P_RAW1, status, Open>], [], priority=3>)\n",
      "('P_RAW2', <Control: 'P_RAW2', <ValueCondition: T1, level, >=, -1.0>, [<ControlAction: P_RAW2, status, Closed>], [], priority=3>)\n",
      "('P_B2', <Control: 'P_B2', <ValueCondition: T1, level, >=, -1.0>, [<ControlAction: P_B2, status, Closed>], [], priority=3>)\n",
      "('P_B1', <Control: 'P_B1', <ValueCondition: T1, level, >=, -1.0>, [<ControlAction: P_B1, status, Closed>], [], priority=3>)\n"
     ]
    }
   ],
   "source": [
    "for control in wn.controls():\n",
    "    print(control)"
   ]
  },
  {
   "cell_type": "code",
   "execution_count": 33,
   "metadata": {},
   "outputs": [
    {
     "ename": "EpanetException",
     "evalue": "EPANET Error 200",
     "output_type": "error",
     "traceback": [
      "\u001b[1;31m---------------------------------------------------------------------------\u001b[0m",
      "\u001b[1;31mEpanetException\u001b[0m                           Traceback (most recent call last)",
      "\u001b[1;32m<ipython-input-33-b131263f99c5>\u001b[0m in \u001b[0;36m<module>\u001b[1;34m\u001b[0m\n\u001b[0;32m      6\u001b[0m \u001b[1;33m\u001b[0m\u001b[0m\n\u001b[0;32m      7\u001b[0m     \u001b[1;31m#update_actuator_values()\u001b[0m\u001b[1;33m\u001b[0m\u001b[1;33m\u001b[0m\u001b[1;33m\u001b[0m\u001b[0m\n\u001b[1;32m----> 8\u001b[1;33m     \u001b[0mresults\u001b[0m \u001b[1;33m=\u001b[0m \u001b[0msim\u001b[0m\u001b[1;33m.\u001b[0m\u001b[0mrun_sim\u001b[0m\u001b[1;33m(\u001b[0m\u001b[1;33m)\u001b[0m\u001b[1;33m\u001b[0m\u001b[1;33m\u001b[0m\u001b[0m\n\u001b[0m\u001b[0;32m      9\u001b[0m     \u001b[0mvalues_list\u001b[0m \u001b[1;33m=\u001b[0m \u001b[0mregister_results\u001b[0m\u001b[1;33m(\u001b[0m\u001b[0mresults\u001b[0m\u001b[1;33m)\u001b[0m\u001b[1;33m\u001b[0m\u001b[1;33m\u001b[0m\u001b[0m\n\u001b[0;32m     10\u001b[0m \u001b[1;33m\u001b[0m\u001b[0m\n",
      "\u001b[1;32m~\\Anaconda3\\lib\\site-packages\\wntr\\sim\\epanet.py\u001b[0m in \u001b[0;36mrun_sim\u001b[1;34m(self, file_prefix, save_hyd, use_hyd, hydfile)\u001b[0m\n\u001b[0;32m     79\u001b[0m         \u001b[1;32mif\u001b[0m \u001b[0mhydfile\u001b[0m \u001b[1;32mis\u001b[0m \u001b[1;32mNone\u001b[0m\u001b[1;33m:\u001b[0m\u001b[1;33m\u001b[0m\u001b[1;33m\u001b[0m\u001b[0m\n\u001b[0;32m     80\u001b[0m             \u001b[0mhydfile\u001b[0m \u001b[1;33m=\u001b[0m \u001b[0mfile_prefix\u001b[0m \u001b[1;33m+\u001b[0m \u001b[1;34m'.hyd'\u001b[0m\u001b[1;33m\u001b[0m\u001b[1;33m\u001b[0m\u001b[0m\n\u001b[1;32m---> 81\u001b[1;33m         \u001b[0menData\u001b[0m\u001b[1;33m.\u001b[0m\u001b[0mENopen\u001b[0m\u001b[1;33m(\u001b[0m\u001b[0minpfile\u001b[0m\u001b[1;33m,\u001b[0m \u001b[0mrptfile\u001b[0m\u001b[1;33m,\u001b[0m \u001b[0moutfile\u001b[0m\u001b[1;33m)\u001b[0m\u001b[1;33m\u001b[0m\u001b[1;33m\u001b[0m\u001b[0m\n\u001b[0m\u001b[0;32m     82\u001b[0m         \u001b[1;32mif\u001b[0m \u001b[0muse_hyd\u001b[0m\u001b[1;33m:\u001b[0m\u001b[1;33m\u001b[0m\u001b[1;33m\u001b[0m\u001b[0m\n\u001b[0;32m     83\u001b[0m             \u001b[0menData\u001b[0m\u001b[1;33m.\u001b[0m\u001b[0mENusehydfile\u001b[0m\u001b[1;33m(\u001b[0m\u001b[0mhydfile\u001b[0m\u001b[1;33m)\u001b[0m\u001b[1;33m\u001b[0m\u001b[1;33m\u001b[0m\u001b[0m\n",
      "\u001b[1;32m~\\Anaconda3\\lib\\site-packages\\wntr\\epanet\\toolkit.py\u001b[0m in \u001b[0;36mENopen\u001b[1;34m(self, inpfile, rptfile, binfile)\u001b[0m\n\u001b[0;32m    185\u001b[0m         \u001b[0mbinfile\u001b[0m \u001b[1;33m=\u001b[0m \u001b[0mbinfile\u001b[0m\u001b[1;33m.\u001b[0m\u001b[0mencode\u001b[0m\u001b[1;33m(\u001b[0m\u001b[1;34m'ascii'\u001b[0m\u001b[1;33m)\u001b[0m\u001b[1;33m\u001b[0m\u001b[1;33m\u001b[0m\u001b[0m\n\u001b[0;32m    186\u001b[0m         \u001b[0mself\u001b[0m\u001b[1;33m.\u001b[0m\u001b[0merrcode\u001b[0m \u001b[1;33m=\u001b[0m \u001b[0mself\u001b[0m\u001b[1;33m.\u001b[0m\u001b[0mENlib\u001b[0m\u001b[1;33m.\u001b[0m\u001b[0mENopen\u001b[0m\u001b[1;33m(\u001b[0m\u001b[0minpfile\u001b[0m\u001b[1;33m,\u001b[0m \u001b[0mrptfile\u001b[0m\u001b[1;33m,\u001b[0m \u001b[0mbinfile\u001b[0m\u001b[1;33m)\u001b[0m\u001b[1;33m\u001b[0m\u001b[1;33m\u001b[0m\u001b[0m\n\u001b[1;32m--> 187\u001b[1;33m         \u001b[0mself\u001b[0m\u001b[1;33m.\u001b[0m\u001b[0m_error\u001b[0m\u001b[1;33m(\u001b[0m\u001b[1;33m)\u001b[0m\u001b[1;33m\u001b[0m\u001b[1;33m\u001b[0m\u001b[0m\n\u001b[0m\u001b[0;32m    188\u001b[0m         \u001b[1;32mif\u001b[0m \u001b[0mself\u001b[0m\u001b[1;33m.\u001b[0m\u001b[0merrcode\u001b[0m \u001b[1;33m<\u001b[0m \u001b[1;36m100\u001b[0m\u001b[1;33m:\u001b[0m\u001b[1;33m\u001b[0m\u001b[1;33m\u001b[0m\u001b[0m\n\u001b[0;32m    189\u001b[0m             \u001b[0mself\u001b[0m\u001b[1;33m.\u001b[0m\u001b[0mfileLoaded\u001b[0m \u001b[1;33m=\u001b[0m \u001b[1;32mTrue\u001b[0m\u001b[1;33m\u001b[0m\u001b[1;33m\u001b[0m\u001b[0m\n",
      "\u001b[1;32m~\\Anaconda3\\lib\\site-packages\\wntr\\epanet\\toolkit.py\u001b[0m in \u001b[0;36m_error\u001b[1;34m(self)\u001b[0m\n\u001b[0;32m    154\u001b[0m             \u001b[0mself\u001b[0m\u001b[1;33m.\u001b[0m\u001b[0mErrflag\u001b[0m \u001b[1;33m=\u001b[0m \u001b[1;32mTrue\u001b[0m\u001b[1;33m\u001b[0m\u001b[1;33m\u001b[0m\u001b[0m\n\u001b[0;32m    155\u001b[0m             \u001b[0mself\u001b[0m\u001b[1;33m.\u001b[0m\u001b[0merrcodelist\u001b[0m\u001b[1;33m.\u001b[0m\u001b[0mappend\u001b[0m\u001b[1;33m(\u001b[0m\u001b[0mself\u001b[0m\u001b[1;33m.\u001b[0m\u001b[0merrcode\u001b[0m\u001b[1;33m)\u001b[0m\u001b[1;33m\u001b[0m\u001b[1;33m\u001b[0m\u001b[0m\n\u001b[1;32m--> 156\u001b[1;33m             \u001b[1;32mraise\u001b[0m \u001b[0mEpanetException\u001b[0m\u001b[1;33m(\u001b[0m\u001b[1;34m'EPANET Error {}'\u001b[0m\u001b[1;33m.\u001b[0m\u001b[0mformat\u001b[0m\u001b[1;33m(\u001b[0m\u001b[0mself\u001b[0m\u001b[1;33m.\u001b[0m\u001b[0merrcode\u001b[0m\u001b[1;33m)\u001b[0m\u001b[1;33m)\u001b[0m\u001b[1;33m\u001b[0m\u001b[1;33m\u001b[0m\u001b[0m\n\u001b[0m\u001b[0;32m    157\u001b[0m         \u001b[1;32melse\u001b[0m\u001b[1;33m:\u001b[0m\u001b[1;33m\u001b[0m\u001b[1;33m\u001b[0m\u001b[0m\n\u001b[0;32m    158\u001b[0m             \u001b[0mself\u001b[0m\u001b[1;33m.\u001b[0m\u001b[0mWarnflag\u001b[0m \u001b[1;33m=\u001b[0m \u001b[1;32mTrue\u001b[0m\u001b[1;33m\u001b[0m\u001b[1;33m\u001b[0m\u001b[0m\n",
      "\u001b[1;31mEpanetException\u001b[0m: EPANET Error 200"
     ]
    }
   ],
   "source": [
    "# START STEP BY STEP SIMULATION\n",
    "sim = wntr.sim.EpanetSimulator(wn)\n",
    "iteration = 0\n",
    "iteration_limit = (14*60)/5\n",
    "while iteration <= iteration_limit:\n",
    "    \n",
    "    #update_actuator_values()\n",
    "    results = sim.run_sim()\n",
    "    values_list = register_results(results)\n",
    "    \n",
    "    results_list.append(values_list)    \n",
    "    iteration += 1"
   ]
  },
  {
   "cell_type": "code",
   "execution_count": 7,
   "metadata": {},
   "outputs": [],
   "source": [
    "with open('wadi_55_no_minicps.csv', 'w', newline='\\n') as f:\n",
    "    writer = csv.writer(f)\n",
    "    writer.writerows(results_list)"
   ]
  },
  {
   "cell_type": "code",
   "execution_count": 8,
   "metadata": {},
   "outputs": [
    {
     "data": {
      "image/png": "[encoded data removed]",
      "text/plain": [
       "<Figure size 432x288 with 3 Axes>"
      ]
     },
     "metadata": {
      "needs_background": "light"
     },
     "output_type": "display_data"
    }
   ],
   "source": [
    "no_minicps_wadi = pd.read_csv('wadi_55_no_minicps.csv')\n",
    "\n",
    "subplot_hspace = 0.6\n",
    "subplot_wspace = 0.1\n",
    "\n",
    "dd = plt.subplot(4,2,1)\n",
    "no_minicps_wadi[\"T0_LEVEL\"].plot(label='WNTR - PDD', ax=dd)\n",
    "plt.title(\"WADI topology - Tank 0\")\n",
    "plt.xlabel('iterations')\n",
    "plt.ylabel('tank level (m)')\n",
    "plt.legend()\n",
    "plt.subplots_adjust(top=2.00, right=3.00, hspace = subplot_hspace, wspace=subplot_wspace)\n",
    "plt.grid(True)\n",
    "\n",
    "dd = plt.subplot(4,2,2)\n",
    "no_minicps_wadi[\"T1_LEVEL\"].plot(label='WNTR - PDD', ax=dd)\n",
    "plt.title(\"WADI topology - Tank 1\")\n",
    "plt.xlabel('iterations')\n",
    "plt.ylabel('tank level (m)')\n",
    "plt.legend()\n",
    "plt.subplots_adjust(top=2.00, right=3.00, hspace = subplot_hspace, wspace=subplot_wspace)\n",
    "plt.grid(True)\n",
    "\n",
    "dd = plt.subplot(4,2,3)\n",
    "no_minicps_wadi[\"T2_LEVEL\"].plot(label='WNTR - PDD', ax=dd)\n",
    "plt.title(\"WADI topology - Tank 2\")\n",
    "plt.xlabel('iterations')\n",
    "plt.ylabel('tank level (m)')\n",
    "plt.legend()\n",
    "plt.subplots_adjust(top=2.00, right=3.00, hspace = subplot_hspace, wspace=subplot_wspace)\n",
    "plt.grid(True)"
   ]
  }
 ],
 "metadata": {
  "kernelspec": {
   "display_name": "Python 3",
   "language": "python",
   "name": "python3"
  },
  "language_info": {
   "codemirror_mode": {
    "name": "ipython",
    "version": 3
   },
   "file_extension": ".py",
   "mimetype": "text/x-python",
   "name": "python",
   "nbconvert_exporter": "python",
   "pygments_lexer": "ipython3",
   "version": "3.7.4"
  }
 },
 "nbformat": 4,
 "nbformat_minor": 2
}
