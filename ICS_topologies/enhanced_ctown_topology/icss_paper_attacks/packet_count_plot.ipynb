{
 "cells": [
  {
   "cell_type": "code",
   "execution_count": 1,
   "metadata": {},
   "outputs": [],
   "source": [
    "#//////////////////////////////////////////////////////////////////////////////////////////////////////////////////////\n",
    "#///////////////////////////////////////////////// Libraries  ////////////////////////////////////////////////////////\n",
    "import cip\n",
    "from scapy.all import *\n",
    "import pandas as pd\n",
    "from decimal import Decimal\n",
    "import time\n",
    "import pandas as pd"
   ]
  },
  {
   "cell_type": "code",
   "execution_count": 2,
   "metadata": {
    "scrolled": false
   },
   "outputs": [],
   "source": [
    "current_results = \"normal_behavior\"\n",
    "week = 0\n",
    "analyzed_plc = \"plc2\"\n",
    "path_in_plc_attack = current_results + \"/week_\" + str(week) + \"/\" \n",
    "path_out = current_results + \"_\" + analyzed_plc + \"test_total_packets.csv\"\n",
    "network_data = rdpcap(path_in_plc_attack+analyzed_plc+\"-eth0.pcap\")\n",
    "physical_data = pd.read_csv(path_in_plc_attack + \"physical_process.csv\")"
   ]
  },
  {
   "cell_type": "code",
   "execution_count": 3,
   "metadata": {},
   "outputs": [],
   "source": [
    "tcp_packets_per_day = []\n",
    "enip_packets_per_day = []\n",
    "cip_packets_per_day = []\n",
    "arp_packets_per_day = []\n",
    "ts_phy_day_start = []\n",
    "\n",
    "for i in range(1,7):\n",
    "    # we subtract 28800, to have both times in GMT\n",
    "    ts_phy_day_start.append((datetime.strptime(physical_data['Timestamps'].iloc[i*288], \"%Y-%m-%d %H:%M:%S.%f\") - datetime(1970, 1, 1)).total_seconds() - 28800 )"
   ]
  },
  {
   "cell_type": "code",
   "execution_count": 4,
   "metadata": {},
   "outputs": [],
   "source": [
    "tcp_packet_count = 0\n",
    "enip_packet_count = 0\n",
    "cip_packet_count = 0\n",
    "arp_packet_count = 0\n",
    "current_day = 0\n",
    "for pkt in network_data:\n",
    "    # ARP packet\n",
    "    if pkt['Ether'].type == 2054:\n",
    "        arp_packet_count += 1\n",
    "        continue\n",
    "        \n",
    "    if 'TCP' in pkt:\n",
    "        if 'CIP' in pkt['TCP']:\n",
    "            cip_packet_count+=1            \n",
    "        elif 'ENIP_TCP' in pkt['TCP']:\n",
    "            enip_packet_count+=1            \n",
    "        else:\n",
    "            tcp_packet_count += 1\n",
    "           \n",
    "    # Save this day's count, move one day, and restart the daily counters\n",
    "    if float(pkt.time) >= ts_phy_day_start[current_day]:    \n",
    "        tcp_packets_per_day.append(tcp_packet_count)\n",
    "        enip_packets_per_day.append(enip_packet_count)\n",
    "        cip_packets_per_day.append(cip_packet_count)\n",
    "        arp_packets_per_day.append(arp_packet_count)    \n",
    "        tcp_packet_count = 0\n",
    "        enip_packet_count = 0\n",
    "        cip_packet_count = 0\n",
    "        arp_packet_count = 0        \n",
    "        current_day += 1\n",
    "        \n",
    "        if current_day >= len(ts_phy_day_start):\n",
    "            break          "
   ]
  },
  {
   "cell_type": "code",
   "execution_count": 5,
   "metadata": {},
   "outputs": [
    {
     "name": "stdout",
     "output_type": "stream",
     "text": [
      "TCP packets per day: [16139, 16490, 16475, 16572, 16518, 16841]\n",
      "ENIP packets per day: [4028, 4112, 4114, 4138, 4120, 4200]\n",
      "CIP packets per day: [4028, 4112, 4114, 4137, 4121, 4200]\n",
      "ARP packets per day: [2, 0, 0, 0, 0, 0]\n"
     ]
    }
   ],
   "source": [
    "print(\"TCP packets per day: \" + str(tcp_packets_per_day))\n",
    "print(\"ENIP packets per day: \" + str(enip_packets_per_day))\n",
    "print(\"CIP packets per day: \" + str(cip_packets_per_day))\n",
    "print(\"ARP packets per day: \" + str(arp_packets_per_day))\n",
    "total_packets = [tcp_packets_per_day, enip_packets_per_day, cip_packets_per_day, arp_packets_per_day]\n",
    "days = [\"TCP\", \"ENIP\", \"CIP\", \"ARP\"]\n",
    "numner_of_packets = pd.DataFrame(data = total_packets).T\n",
    "numner_of_packets.columns = days\n",
    "numner_of_packets.to_csv(path_out)"
   ]
  }
 ],
 "metadata": {
  "kernelspec": {
   "display_name": "Python 3",
   "language": "python",
   "name": "python3"
  },
  "language_info": {
   "codemirror_mode": {
    "name": "ipython",
    "version": 3
   },
   "file_extension": ".py",
   "mimetype": "text/x-python",
   "name": "python",
   "nbconvert_exporter": "python",
   "pygments_lexer": "ipython3",
   "version": "3.7.4"
  }
 },
 "nbformat": 4,
 "nbformat_minor": 2
}
